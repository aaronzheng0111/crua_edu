{
 "cells": [
  {
   "cell_type": "markdown",
   "metadata": {},
   "source": [
    "# Import all library needed"
   ]
  },
  {
   "cell_type": "code",
   "execution_count": 23,
   "metadata": {},
   "outputs": [
    {
     "name": "stdout",
     "output_type": "stream",
     "text": [
      "Requirement already satisfied: openai in /Users/aaronz/anaconda3/envs/cura/lib/python3.8/site-packages (1.52.2)\n",
      "Requirement already satisfied: pytest in /Users/aaronz/anaconda3/envs/cura/lib/python3.8/site-packages (8.3.3)\n",
      "Requirement already satisfied: pandas in /Users/aaronz/anaconda3/envs/cura/lib/python3.8/site-packages (2.0.3)\n",
      "Requirement already satisfied: python-dotenv in /Users/aaronz/anaconda3/envs/cura/lib/python3.8/site-packages (1.0.1)\n",
      "Collecting scikit-learn\n",
      "  Downloading scikit_learn-1.3.2-cp38-cp38-macosx_10_9_x86_64.whl.metadata (11 kB)\n",
      "Requirement already satisfied: anyio<5,>=3.5.0 in /Users/aaronz/anaconda3/envs/cura/lib/python3.8/site-packages (from openai) (4.3.0)\n",
      "Requirement already satisfied: distro<2,>=1.7.0 in /Users/aaronz/anaconda3/envs/cura/lib/python3.8/site-packages (from openai) (1.9.0)\n",
      "Requirement already satisfied: httpx<1,>=0.23.0 in /Users/aaronz/anaconda3/envs/cura/lib/python3.8/site-packages (from openai) (0.27.2)\n",
      "Requirement already satisfied: jiter<1,>=0.4.0 in /Users/aaronz/anaconda3/envs/cura/lib/python3.8/site-packages (from openai) (0.6.1)\n",
      "Requirement already satisfied: pydantic<3,>=1.9.0 in /Users/aaronz/anaconda3/envs/cura/lib/python3.8/site-packages (from openai) (2.9.2)\n",
      "Requirement already satisfied: sniffio in /Users/aaronz/anaconda3/envs/cura/lib/python3.8/site-packages (from openai) (1.3.1)\n",
      "Requirement already satisfied: tqdm>4 in /Users/aaronz/anaconda3/envs/cura/lib/python3.8/site-packages (from openai) (4.66.5)\n",
      "Requirement already satisfied: typing-extensions<5,>=4.11 in /Users/aaronz/anaconda3/envs/cura/lib/python3.8/site-packages (from openai) (4.12.2)\n",
      "Requirement already satisfied: iniconfig in /Users/aaronz/anaconda3/envs/cura/lib/python3.8/site-packages (from pytest) (2.0.0)\n",
      "Requirement already satisfied: packaging in /Users/aaronz/anaconda3/envs/cura/lib/python3.8/site-packages (from pytest) (24.1)\n",
      "Requirement already satisfied: pluggy<2,>=1.5 in /Users/aaronz/anaconda3/envs/cura/lib/python3.8/site-packages (from pytest) (1.5.0)\n",
      "Requirement already satisfied: exceptiongroup>=1.0.0rc8 in /Users/aaronz/anaconda3/envs/cura/lib/python3.8/site-packages (from pytest) (1.2.2)\n",
      "Requirement already satisfied: tomli>=1 in /Users/aaronz/anaconda3/envs/cura/lib/python3.8/site-packages (from pytest) (2.0.2)\n",
      "Requirement already satisfied: python-dateutil>=2.8.2 in /Users/aaronz/anaconda3/envs/cura/lib/python3.8/site-packages (from pandas) (2.9.0)\n",
      "Requirement already satisfied: pytz>=2020.1 in /Users/aaronz/anaconda3/envs/cura/lib/python3.8/site-packages (from pandas) (2024.2)\n",
      "Requirement already satisfied: tzdata>=2022.1 in /Users/aaronz/anaconda3/envs/cura/lib/python3.8/site-packages (from pandas) (2024.2)\n",
      "Requirement already satisfied: numpy>=1.20.3 in /Users/aaronz/anaconda3/envs/cura/lib/python3.8/site-packages (from pandas) (1.24.4)\n",
      "Collecting scipy>=1.5.0 (from scikit-learn)\n",
      "  Downloading scipy-1.10.1-cp38-cp38-macosx_10_9_x86_64.whl.metadata (53 kB)\n",
      "Collecting joblib>=1.1.1 (from scikit-learn)\n",
      "  Downloading joblib-1.4.2-py3-none-any.whl.metadata (5.4 kB)\n",
      "Collecting threadpoolctl>=2.0.0 (from scikit-learn)\n",
      "  Downloading threadpoolctl-3.5.0-py3-none-any.whl.metadata (13 kB)\n",
      "Requirement already satisfied: idna>=2.8 in /Users/aaronz/anaconda3/envs/cura/lib/python3.8/site-packages (from anyio<5,>=3.5.0->openai) (3.10)\n",
      "Requirement already satisfied: certifi in /Users/aaronz/anaconda3/envs/cura/lib/python3.8/site-packages (from httpx<1,>=0.23.0->openai) (2024.8.30)\n",
      "Requirement already satisfied: httpcore==1.* in /Users/aaronz/anaconda3/envs/cura/lib/python3.8/site-packages (from httpx<1,>=0.23.0->openai) (1.0.6)\n",
      "Requirement already satisfied: h11<0.15,>=0.13 in /Users/aaronz/anaconda3/envs/cura/lib/python3.8/site-packages (from httpcore==1.*->httpx<1,>=0.23.0->openai) (0.14.0)\n",
      "Requirement already satisfied: annotated-types>=0.6.0 in /Users/aaronz/anaconda3/envs/cura/lib/python3.8/site-packages (from pydantic<3,>=1.9.0->openai) (0.7.0)\n",
      "Requirement already satisfied: pydantic-core==2.23.4 in /Users/aaronz/anaconda3/envs/cura/lib/python3.8/site-packages (from pydantic<3,>=1.9.0->openai) (2.23.4)\n",
      "Requirement already satisfied: six>=1.5 in /Users/aaronz/anaconda3/envs/cura/lib/python3.8/site-packages (from python-dateutil>=2.8.2->pandas) (1.16.0)\n",
      "Downloading scikit_learn-1.3.2-cp38-cp38-macosx_10_9_x86_64.whl (10.1 MB)\n",
      "\u001b[2K   \u001b[90m━━━━━━━━━━━━━━━━━━━━━━━━━━━━━━━━━━━━━━━━\u001b[0m \u001b[32m10.1/10.1 MB\u001b[0m \u001b[31m21.4 MB/s\u001b[0m eta \u001b[36m0:00:00\u001b[0m \u001b[36m0:00:01\u001b[0m\n",
      "\u001b[?25hDownloading joblib-1.4.2-py3-none-any.whl (301 kB)\n",
      "Downloading scipy-1.10.1-cp38-cp38-macosx_10_9_x86_64.whl (35.0 MB)\n",
      "\u001b[2K   \u001b[90m━━━━━━━━━━━━━━━━━━━━━━━━━━━━━━━━━━━━━━━━\u001b[0m \u001b[32m35.0/35.0 MB\u001b[0m \u001b[31m27.2 MB/s\u001b[0m eta \u001b[36m0:00:00\u001b[0m00:01\u001b[0m00:01\u001b[0m\n",
      "\u001b[?25hDownloading threadpoolctl-3.5.0-py3-none-any.whl (18 kB)\n",
      "Installing collected packages: threadpoolctl, scipy, joblib, scikit-learn\n",
      "Successfully installed joblib-1.4.2 scikit-learn-1.3.2 scipy-1.10.1 threadpoolctl-3.5.0\n",
      "Note: you may need to restart the kernel to use updated packages.\n"
     ]
    }
   ],
   "source": [
    "\n",
    "%pip install openai pytest pandas python-dotenv scikit-learn\n",
    "\n",
    "import openai\n",
    "import pandas as pd\n",
    "import pytest\n",
    "import json\n",
    "from dotenv import load_dotenv\n",
    "import os\n",
    "from sklearn.model_selection import train_test_split\n",
    "import base64\n",
    "import re"
   ]
  },
  {
   "cell_type": "markdown",
   "metadata": {},
   "source": [
    "# Analyze the data provided"
   ]
  },
  {
   "cell_type": "code",
   "execution_count": 2,
   "metadata": {},
   "outputs": [],
   "source": [
    "df = pd.read_json('cura-llm-training-data.json')"
   ]
  },
  {
   "cell_type": "code",
   "execution_count": 3,
   "metadata": {},
   "outputs": [
    {
     "data": {
      "text/html": [
       "<div>\n",
       "<style scoped>\n",
       "    .dataframe tbody tr th:only-of-type {\n",
       "        vertical-align: middle;\n",
       "    }\n",
       "\n",
       "    .dataframe tbody tr th {\n",
       "        vertical-align: top;\n",
       "    }\n",
       "\n",
       "    .dataframe thead th {\n",
       "        text-align: right;\n",
       "    }\n",
       "</style>\n",
       "<table border=\"1\" class=\"dataframe\">\n",
       "  <thead>\n",
       "    <tr style=\"text-align: right;\">\n",
       "      <th></th>\n",
       "      <th>question_id</th>\n",
       "      <th>task_id</th>\n",
       "      <th>question</th>\n",
       "      <th>rubric</th>\n",
       "      <th>answer</th>\n",
       "      <th>task_title</th>\n",
       "      <th>task_content</th>\n",
       "    </tr>\n",
       "  </thead>\n",
       "  <tbody>\n",
       "    <tr>\n",
       "      <th>0</th>\n",
       "      <td>8b1d6474-a38a-4456-8ac2-74ff054b9d67</td>\n",
       "      <td>41f89fd8-0d25-4aa7-848c-6840f01023da</td>\n",
       "      <td>Which fin design worked best? Why?</td>\n",
       "      <td>{\"items\": [\"I can explain my response\", \"I can...</td>\n",
       "      <td>\"Fin designs that have three or four triangula...</td>\n",
       "      <td>Designing your rocket</td>\n",
       "      <td>Designing your rocket    Building phase     Th...</td>\n",
       "    </tr>\n",
       "    <tr>\n",
       "      <th>1</th>\n",
       "      <td>8add417a-4108-43e6-b033-4fa72ac4f709</td>\n",
       "      <td>35d95305-bc3a-461a-ba96-83063257f32d</td>\n",
       "      <td>Which planet had the fastest and slowest orbit...</td>\n",
       "      <td>{\"items\": [\"I can explain why these planets ha...</td>\n",
       "      <td>\"Mercury has the fastest orbit of 88 days. Thi...</td>\n",
       "      <td>The orbits of other planets</td>\n",
       "      <td>The orbits of other planets    The orbits of o...</td>\n",
       "    </tr>\n",
       "    <tr>\n",
       "      <th>2</th>\n",
       "      <td>89edd167-18ed-40ba-93f1-93999a800097</td>\n",
       "      <td>c4c7058a-5f65-45a2-b097-30733070e4bd</td>\n",
       "      <td>Based on your results (ie. shape, volume, and ...</td>\n",
       "      <td>{\"items\": [\"I can identify the three propertie...</td>\n",
       "      <td>\"Exemplar AnswerSolids - shape did not change,...</td>\n",
       "      <td>What are objects made of?</td>\n",
       "      <td>What are objects made of?    What affects whet...</td>\n",
       "    </tr>\n",
       "    <tr>\n",
       "      <th>3</th>\n",
       "      <td>8632c092-ea9f-4ba2-bdfa-d2f335c95247</td>\n",
       "      <td>cb21ad07-eed4-49a4-9d63-5e266a0b19b0</td>\n",
       "      <td>Determine the ratio of the load force to effor...</td>\n",
       "      <td>{\"items\": [\"I can explain how we know this\", \"...</td>\n",
       "      <td>\"The ratio of the load force to the effort for...</td>\n",
       "      <td>Forces in action - seesaws</td>\n",
       "      <td>Forces in action - seesaws    Turning forces  ...</td>\n",
       "    </tr>\n",
       "    <tr>\n",
       "      <th>4</th>\n",
       "      <td>8422d140-5d31-4933-ae45-52f380e1213a</td>\n",
       "      <td>fe99ba29-d69a-4231-8a66-badedae898b2</td>\n",
       "      <td>Describe the shape of the Earth’s orbit around...</td>\n",
       "      <td>{\"items\": [\"I can explain the shape of the Ear...</td>\n",
       "      <td>\"The Earth’s orbit around the Sun is an ellipt...</td>\n",
       "      <td>Earth's orbit</td>\n",
       "      <td>Earth's orbit    What is an orbit?     An orbi...</td>\n",
       "    </tr>\n",
       "    <tr>\n",
       "      <th>...</th>\n",
       "      <td>...</td>\n",
       "      <td>...</td>\n",
       "      <td>...</td>\n",
       "      <td>...</td>\n",
       "      <td>...</td>\n",
       "      <td>...</td>\n",
       "      <td>...</td>\n",
       "    </tr>\n",
       "    <tr>\n",
       "      <th>112</th>\n",
       "      <td>0e4305e5-9436-42e6-aa91-0d417d0e6b7b</td>\n",
       "      <td>62531e3f-7652-4a5c-b6ff-2e774b4f05a9</td>\n",
       "      <td>What type of material would you use if you wan...</td>\n",
       "      <td>{\"items\": [\"I can explain my answer\", \"I can c...</td>\n",
       "      <td>\"Translucent. Only some light passes through i...</td>\n",
       "      <td>Light absorption</td>\n",
       "      <td>Light absorption    Struck by light     What h...</td>\n",
       "    </tr>\n",
       "    <tr>\n",
       "      <th>113</th>\n",
       "      <td>e2ff5709-711c-487a-b4ef-032473532b2d</td>\n",
       "      <td>59c94ba6-4402-4d28-88d2-bbe2f2e8f9a0</td>\n",
       "      <td>If you haven't already, watch this video of a ...</td>\n",
       "      <td>{\"items\": [\"I can explain how this is an illus...</td>\n",
       "      <td>\"When a vehicle suddenly stops or collides, th...</td>\n",
       "      <td>What is Newton’s first law of motion?</td>\n",
       "      <td>What is Newton’s first law of motion?    Force...</td>\n",
       "    </tr>\n",
       "    <tr>\n",
       "      <th>114</th>\n",
       "      <td>b1222c04-d4f6-4862-9d01-a0db711447e4</td>\n",
       "      <td>fb74d82a-43e6-4470-93ed-6f4d55e6df32</td>\n",
       "      <td>Based on what each group started with, which g...</td>\n",
       "      <td>{\"items\": [\"I can correctly identify all of th...</td>\n",
       "      <td>\"Group A - Regional/rural townGroup B - Smalle...</td>\n",
       "      <td>Why does liveability differ across places?</td>\n",
       "      <td>Why does liveability differ across places?    ...</td>\n",
       "    </tr>\n",
       "    <tr>\n",
       "      <th>115</th>\n",
       "      <td>d1907f44-d617-4487-a946-64e7c75dac2a</td>\n",
       "      <td>a03055ca-23ed-485d-ae06-6b4b8b51f811</td>\n",
       "      <td>It's 1204 CE and Genghis Khan has just defeate...</td>\n",
       "      <td>{\"items\": [\"I can suggest how to forge an alli...</td>\n",
       "      <td>\"Students could take different approaches for ...</td>\n",
       "      <td>How did Genghis Khan unify the Mongols?</td>\n",
       "      <td>How did Genghis Khan unify the Mongols?    Who...</td>\n",
       "    </tr>\n",
       "    <tr>\n",
       "      <th>116</th>\n",
       "      <td>fedd6dc3-d7c9-4695-b519-099cf905b0e3</td>\n",
       "      <td>3480da27-4529-4f25-8d7d-98a23204d9c1</td>\n",
       "      <td>If you were reflecting sunlight off a mirror o...</td>\n",
       "      <td>{\"items\": [\"I can explain whether or not this ...</td>\n",
       "      <td>\"Rain on the mirror would make the light refra...</td>\n",
       "      <td>Light refraction</td>\n",
       "      <td>Light refraction    What is refraction?     If...</td>\n",
       "    </tr>\n",
       "  </tbody>\n",
       "</table>\n",
       "<p>117 rows × 7 columns</p>\n",
       "</div>"
      ],
      "text/plain": [
       "                              question_id  \\\n",
       "0    8b1d6474-a38a-4456-8ac2-74ff054b9d67   \n",
       "1    8add417a-4108-43e6-b033-4fa72ac4f709   \n",
       "2    89edd167-18ed-40ba-93f1-93999a800097   \n",
       "3    8632c092-ea9f-4ba2-bdfa-d2f335c95247   \n",
       "4    8422d140-5d31-4933-ae45-52f380e1213a   \n",
       "..                                    ...   \n",
       "112  0e4305e5-9436-42e6-aa91-0d417d0e6b7b   \n",
       "113  e2ff5709-711c-487a-b4ef-032473532b2d   \n",
       "114  b1222c04-d4f6-4862-9d01-a0db711447e4   \n",
       "115  d1907f44-d617-4487-a946-64e7c75dac2a   \n",
       "116  fedd6dc3-d7c9-4695-b519-099cf905b0e3   \n",
       "\n",
       "                                  task_id  \\\n",
       "0    41f89fd8-0d25-4aa7-848c-6840f01023da   \n",
       "1    35d95305-bc3a-461a-ba96-83063257f32d   \n",
       "2    c4c7058a-5f65-45a2-b097-30733070e4bd   \n",
       "3    cb21ad07-eed4-49a4-9d63-5e266a0b19b0   \n",
       "4    fe99ba29-d69a-4231-8a66-badedae898b2   \n",
       "..                                    ...   \n",
       "112  62531e3f-7652-4a5c-b6ff-2e774b4f05a9   \n",
       "113  59c94ba6-4402-4d28-88d2-bbe2f2e8f9a0   \n",
       "114  fb74d82a-43e6-4470-93ed-6f4d55e6df32   \n",
       "115  a03055ca-23ed-485d-ae06-6b4b8b51f811   \n",
       "116  3480da27-4529-4f25-8d7d-98a23204d9c1   \n",
       "\n",
       "                                              question  \\\n",
       "0                   Which fin design worked best? Why?   \n",
       "1    Which planet had the fastest and slowest orbit...   \n",
       "2    Based on your results (ie. shape, volume, and ...   \n",
       "3    Determine the ratio of the load force to effor...   \n",
       "4    Describe the shape of the Earth’s orbit around...   \n",
       "..                                                 ...   \n",
       "112  What type of material would you use if you wan...   \n",
       "113  If you haven't already, watch this video of a ...   \n",
       "114  Based on what each group started with, which g...   \n",
       "115  It's 1204 CE and Genghis Khan has just defeate...   \n",
       "116  If you were reflecting sunlight off a mirror o...   \n",
       "\n",
       "                                                rubric  \\\n",
       "0    {\"items\": [\"I can explain my response\", \"I can...   \n",
       "1    {\"items\": [\"I can explain why these planets ha...   \n",
       "2    {\"items\": [\"I can identify the three propertie...   \n",
       "3    {\"items\": [\"I can explain how we know this\", \"...   \n",
       "4    {\"items\": [\"I can explain the shape of the Ear...   \n",
       "..                                                 ...   \n",
       "112  {\"items\": [\"I can explain my answer\", \"I can c...   \n",
       "113  {\"items\": [\"I can explain how this is an illus...   \n",
       "114  {\"items\": [\"I can correctly identify all of th...   \n",
       "115  {\"items\": [\"I can suggest how to forge an alli...   \n",
       "116  {\"items\": [\"I can explain whether or not this ...   \n",
       "\n",
       "                                                answer  \\\n",
       "0    \"Fin designs that have three or four triangula...   \n",
       "1    \"Mercury has the fastest orbit of 88 days. Thi...   \n",
       "2    \"Exemplar AnswerSolids - shape did not change,...   \n",
       "3    \"The ratio of the load force to the effort for...   \n",
       "4    \"The Earth’s orbit around the Sun is an ellipt...   \n",
       "..                                                 ...   \n",
       "112  \"Translucent. Only some light passes through i...   \n",
       "113  \"When a vehicle suddenly stops or collides, th...   \n",
       "114  \"Group A - Regional/rural townGroup B - Smalle...   \n",
       "115  \"Students could take different approaches for ...   \n",
       "116  \"Rain on the mirror would make the light refra...   \n",
       "\n",
       "                                     task_title  \\\n",
       "0                         Designing your rocket   \n",
       "1                   The orbits of other planets   \n",
       "2                     What are objects made of?   \n",
       "3                    Forces in action - seesaws   \n",
       "4                                 Earth's orbit   \n",
       "..                                          ...   \n",
       "112                            Light absorption   \n",
       "113       What is Newton’s first law of motion?   \n",
       "114  Why does liveability differ across places?   \n",
       "115     How did Genghis Khan unify the Mongols?   \n",
       "116                            Light refraction   \n",
       "\n",
       "                                          task_content  \n",
       "0    Designing your rocket    Building phase     Th...  \n",
       "1    The orbits of other planets    The orbits of o...  \n",
       "2    What are objects made of?    What affects whet...  \n",
       "3    Forces in action - seesaws    Turning forces  ...  \n",
       "4    Earth's orbit    What is an orbit?     An orbi...  \n",
       "..                                                 ...  \n",
       "112  Light absorption    Struck by light     What h...  \n",
       "113  What is Newton’s first law of motion?    Force...  \n",
       "114  Why does liveability differ across places?    ...  \n",
       "115  How did Genghis Khan unify the Mongols?    Who...  \n",
       "116  Light refraction    What is refraction?     If...  \n",
       "\n",
       "[117 rows x 7 columns]"
      ]
     },
     "execution_count": 3,
     "metadata": {},
     "output_type": "execute_result"
    }
   ],
   "source": [
    "df"
   ]
  },
  {
   "cell_type": "code",
   "execution_count": 4,
   "metadata": {},
   "outputs": [
    {
     "name": "stdout",
     "output_type": "stream",
     "text": [
      "question_id count:  117\n",
      "question count:  117\n",
      "answer count:  117\n",
      "task_id count:  59\n",
      "task_title count:  59\n",
      "task_content count:  59\n",
      "rubric count:  115\n"
     ]
    }
   ],
   "source": [
    "print(\"question_id count: \",len(set(df['question_id'])))\n",
    "print(\"question count: \",len(set(df['question'])))\n",
    "print(\"answer count: \",len(set(df['answer'])))\n",
    "print(\"task_id count: \",len(set(df['task_id'])))\n",
    "print(\"task_title count: \",len(set(df['task_title'])))\n",
    "print(\"task_content count: \",len(set(df['task_content'])))\n",
    "print(\"rubric count: \",len(set(df['rubric'])))"
   ]
  },
  {
   "cell_type": "code",
   "execution_count": 5,
   "metadata": {},
   "outputs": [
    {
     "name": "stdout",
     "output_type": "stream",
     "text": [
      "                             question_id  \\\n",
      "19  70ab1af4-12c9-4847-9efb-864ad4ed896e   \n",
      "82  0f99ba55-9e0b-48c2-94ee-dabcbf7ed2ed   \n",
      "96  06d8bcf5-3da2-473f-95b6-ca1c894ffc83   \n",
      "97  8b7edaf3-3bfb-4281-90bd-c3656aa29b20   \n",
      "\n",
      "                                 task_id  \\\n",
      "19  24bc38db-25f1-4e6f-b587-36b750356bb4   \n",
      "82  24bc38db-25f1-4e6f-b587-36b750356bb4   \n",
      "96  a6050fdf-1fc4-4b06-8d28-fe09e5e2f686   \n",
      "97  a6050fdf-1fc4-4b06-8d28-fe09e5e2f686   \n",
      "\n",
      "                                             question  \\\n",
      "19  What do these sources not tell you about ostra...   \n",
      "82  Combining evidence from all the sources, what ...   \n",
      "96  Look at the hypothetical pedigree diagram belo...   \n",
      "97  Look at the hypothetical pedigree diagram belo...   \n",
      "\n",
      "                                               rubric  \\\n",
      "19  {\"items\": [\"Makes a claim about ostracism that...   \n",
      "82  {\"items\": [\"Makes a claim about ostracism that...   \n",
      "96  {\"items\": [\"I can explain my answer using the ...   \n",
      "97  {\"items\": [\"I can explain my answer using the ...   \n",
      "\n",
      "                                               answer  \\\n",
      "19  \"They do not tell us how exactly the voting pr...   \n",
      "82  \"Although it seems democratic, ostracism was n...   \n",
      "96  \"The above pedigree diagram shows an autosomal...   \n",
      "97  \"The affected aliens are displaying an autosom...   \n",
      "\n",
      "                                          task_title  \\\n",
      "19                       Ostracism in Ancient Greece   \n",
      "82                       Ostracism in Ancient Greece   \n",
      "96  Can we predict which genes someone will inherit?   \n",
      "97  Can we predict which genes someone will inherit?   \n",
      "\n",
      "                                         task_content  \n",
      "19  Ostracism in Ancient Greece    Using primary a...  \n",
      "82  Ostracism in Ancient Greece    Using primary a...  \n",
      "96  Can we predict which genes someone will inheri...  \n",
      "97  Can we predict which genes someone will inheri...  \n"
     ]
    }
   ],
   "source": [
    "duplicate_rubrics = df[df.duplicated(subset=['rubric'], keep=False)]\n",
    "\n",
    "print(duplicate_rubrics)\n"
   ]
  },
  {
   "cell_type": "markdown",
   "metadata": {},
   "source": [
    "There is duplicated rubric,therefore check whether there is duplicate row from the data"
   ]
  },
  {
   "cell_type": "code",
   "execution_count": 6,
   "metadata": {},
   "outputs": [
    {
     "data": {
      "text/plain": [
       "'What do these sources not tell you about ostracism?'"
      ]
     },
     "execution_count": 6,
     "metadata": {},
     "output_type": "execute_result"
    }
   ],
   "source": [
    "df.iloc[19]['question']"
   ]
  },
  {
   "cell_type": "code",
   "execution_count": 7,
   "metadata": {},
   "outputs": [
    {
     "data": {
      "text/plain": [
       "'Combining evidence from all the sources, what do they tell you about ostracism?'"
      ]
     },
     "execution_count": 7,
     "metadata": {},
     "output_type": "execute_result"
    }
   ],
   "source": [
    "df.iloc[82]['question']"
   ]
  },
  {
   "cell_type": "code",
   "execution_count": 8,
   "metadata": {},
   "outputs": [
    {
     "data": {
      "text/plain": [
       "'Look at the hypothetical pedigree diagram below. It shows the inheritance of skin colour in aliens. Skin colour is inherited as an autosomal trait. Green (G) is dominant to orange (g).&nbsp;Are the affected aliens displaying the dominant or recessive trait? Give a specific reason for your answer with an example from the pedigree diagram'"
      ]
     },
     "execution_count": 8,
     "metadata": {},
     "output_type": "execute_result"
    }
   ],
   "source": [
    "df.iloc[96]['question']"
   ]
  },
  {
   "cell_type": "code",
   "execution_count": 9,
   "metadata": {},
   "outputs": [
    {
     "data": {
      "text/plain": [
       "'Look at the hypothetical pedigree diagram below. It shows the inheritance of horns in aliens. Horns are inherited as an autosomal trait. Horns (H) are dominant to no horns (h).&nbsp;Are the affected aliens displaying the dominant or recessive trait? Give a specific reason for your answer with an example from the pedigree diagram'"
      ]
     },
     "execution_count": 9,
     "metadata": {},
     "output_type": "execute_result"
    }
   ],
   "source": [
    "df.iloc[97]['question']"
   ]
  },
  {
   "cell_type": "markdown",
   "metadata": {},
   "source": [
    "After check, all the data provided seems normal."
   ]
  },
  {
   "cell_type": "markdown",
   "metadata": {},
   "source": [
    "# Get the api key from .env file"
   ]
  },
  {
   "cell_type": "code",
   "execution_count": 122,
   "metadata": {},
   "outputs": [],
   "source": [
    "# Load .env file\n",
    "load_dotenv()\n",
    "\n",
    "# From .env file to get the OpenAI API Key\n",
    "api_key = os.getenv(\"OPENAI_API_KEY\")"
   ]
  },
  {
   "cell_type": "markdown",
   "metadata": {},
   "source": [
    "# Fine tuning"
   ]
  },
  {
   "cell_type": "markdown",
   "metadata": {},
   "source": [
    "## Convert the data to fine tunning format"
   ]
  },
  {
   "cell_type": "code",
   "execution_count": 44,
   "metadata": {},
   "outputs": [],
   "source": [
    "# Read the original data\n",
    "with open(\"cura-llm-training-data.json\", \"r\") as file:\n",
    "    data = json.load(file)\n",
    "\n",
    "# convert to chat-formatted data\n",
    "with open(\"data/chat_fine_tuning_data.jsonl\", \"w\") as output_file:\n",
    "    for entry in data:\n",
    "        # Create chat-formatted data message\n",
    "        messages = [\n",
    "            {\"role\": \"system\", \"content\": \"You are an AI assistant designed to generate exemplar answers for educational purposes. Your task is to generate exemplar answers based on a provided student task context, question, and assessment rubric.\"},\n",
    "            {\"role\": \"user\", \"content\": f\"Task Title: {entry['task_title']}\\nTask Content: {entry['task_content']}\\nQuestion: {entry['question']}\\nRubric: {entry['rubric']}\"},\n",
    "            {\"role\": \"assistant\", \"content\": entry['answer']}\n",
    "        ]\n",
    "        \n",
    "        # convert to jsonl file\n",
    "        jsonl_entry = {\"messages\": messages}\n",
    "        output_file.write(json.dumps(jsonl_entry) + \"\\n\")\n",
    "\n"
   ]
  },
  {
   "cell_type": "markdown",
   "metadata": {},
   "source": [
    "## Train Test Validation Split"
   ]
  },
  {
   "cell_type": "markdown",
   "metadata": {},
   "source": [
    "Using the ratio 7:1.5:1.5 to divide the original data into train, test and validation dataset for fine tunning"
   ]
  },
  {
   "cell_type": "code",
   "execution_count": 46,
   "metadata": {},
   "outputs": [],
   "source": [
    "# Loading the original data and shuffle the dataset\n",
    "with open(\"data/chat_fine_tuning_data.jsonl\", \"r\") as file:\n",
    "    data = [json.loads(line) for line in file]\n",
    "\n",
    "# split the data into train test validation\n",
    "train_data, temp_data = train_test_split(data, test_size=0.3, random_state=1025)\n",
    "validation_data, test_data = train_test_split(temp_data, test_size=0.5, random_state=1025)\n",
    "\n",
    "# save the split data\n",
    "with open(\"data/finetuneData/train_data.jsonl\", \"w\") as train_file:\n",
    "    for entry in train_data:\n",
    "        train_file.write(json.dumps(entry) + \"\\n\")\n",
    "\n",
    "with open(\"data/finetuneData/validation_data.jsonl\", \"w\") as validation_file:\n",
    "    for entry in validation_data:\n",
    "        validation_file.write(json.dumps(entry) + \"\\n\")\n",
    "\n",
    "with open(\"data/finetuneData/test_data.jsonl\", \"w\") as test_file:\n",
    "    for entry in test_data:\n",
    "        test_file.write(json.dumps(entry) + \"\\n\")"
   ]
  },
  {
   "cell_type": "markdown",
   "metadata": {},
   "source": [
    "## Start Fine Tunning"
   ]
  },
  {
   "cell_type": "code",
   "execution_count": 123,
   "metadata": {},
   "outputs": [],
   "source": [
    "from openai import OpenAI\n",
    "client = OpenAI()\n",
    "\n",
    "client.api_key = api_key"
   ]
  },
  {
   "cell_type": "markdown",
   "metadata": {},
   "source": [
    "### Upload the file"
   ]
  },
  {
   "cell_type": "code",
   "execution_count": 47,
   "metadata": {},
   "outputs": [],
   "source": [
    "\n",
    "# upload the train and validation data to OpenAI\n",
    "response_train = client.files.create(file=open(\"data/finetuneData/train_data.jsonl\", \"rb\"), purpose='fine-tune')\n",
    "response_valid = client.files.create(file=open(\"data/finetuneData/validation_data.jsonl\", \"rb\"), purpose='fine-tune')\n"
   ]
  },
  {
   "cell_type": "code",
   "execution_count": 48,
   "metadata": {},
   "outputs": [
    {
     "name": "stdout",
     "output_type": "stream",
     "text": [
      "Uploaded training file ID: file-yOCQ3P6liWemIXBOpy0wemMP\n",
      "Uploaded validation file ID: file-CBjO3IqPHfIb6avZGg7JWQPi\n"
     ]
    }
   ],
   "source": [
    "print(\"Uploaded training file ID:\", response_train.id)\n",
    "print(\"Uploaded validation file ID:\", response_valid.id)"
   ]
  },
  {
   "cell_type": "markdown",
   "metadata": {},
   "source": [
    "### start Fine Tunning"
   ]
  },
  {
   "cell_type": "code",
   "execution_count": 49,
   "metadata": {},
   "outputs": [],
   "source": [
    "\n",
    "# Create a fine-tuning task\n",
    "response_fine_tune_v1 = client.fine_tuning.jobs.create(\n",
    "    training_file=response_train.id,\n",
    "    validation_file=response_valid.id,\n",
    "    model=\"gpt-4o-mini-2024-07-18\",\n",
    "    hyperparameters={\n",
    "    \"n_epochs\":2\n",
    "  }\n",
    ")\n"
   ]
  },
  {
   "cell_type": "code",
   "execution_count": 90,
   "metadata": {},
   "outputs": [
    {
     "name": "stdout",
     "output_type": "stream",
     "text": [
      "Fine-tuning job ID: ftjob-HItchoh2yNrQxi5lPJ4o0APq\n"
     ]
    }
   ],
   "source": [
    "# Get the fine-tune task ID\n",
    "fine_tune_job_id = response_fine_tune_v1.id\n",
    "print(\"Fine-tuning job ID:\", fine_tune_job_id)"
   ]
  },
  {
   "cell_type": "markdown",
   "metadata": {},
   "source": [
    "### Check the Fine tunning task"
   ]
  },
  {
   "cell_type": "code",
   "execution_count": 105,
   "metadata": {},
   "outputs": [
    {
     "name": "stdout",
     "output_type": "stream",
     "text": [
      "succeeded\n"
     ]
    }
   ],
   "source": [
    "print(client.fine_tuning.jobs.retrieve(fine_tune_job_id).status)"
   ]
  },
  {
   "cell_type": "code",
   "execution_count": 106,
   "metadata": {},
   "outputs": [
    {
     "name": "stdout",
     "output_type": "stream",
     "text": [
      "FineTuningJob(id='ftjob-HItchoh2yNrQxi5lPJ4o0APq', created_at=1729871299, error=Error(code=None, message=None, param=None), fine_tuned_model='ft:gpt-4o-mini-2024-07-18:personal::AMGvcji0', finished_at=1729871650, hyperparameters=Hyperparameters(n_epochs=2, batch_size=1, learning_rate_multiplier=1.8), model='gpt-4o-mini-2024-07-18', object='fine_tuning.job', organization_id='org-1tLV13qTuF8etS5dptzigZgs', result_files=['file-CtR1HdBjS6gQL8CWz50nA1Vv'], seed=1296138184, status='succeeded', trained_tokens=225900, training_file='file-yOCQ3P6liWemIXBOpy0wemMP', validation_file='file-CBjO3IqPHfIb6avZGg7JWQPi', estimated_finish=None, integrations=[], user_provided_suffix=None)\n"
     ]
    }
   ],
   "source": [
    "print(client.fine_tuning.jobs.retrieve(fine_tune_job_id))"
   ]
  },
  {
   "cell_type": "code",
   "execution_count": 117,
   "metadata": {},
   "outputs": [
    {
     "name": "stdout",
     "output_type": "stream",
     "text": [
      "file-CtR1HdBjS6gQL8CWz50nA1Vv\n"
     ]
    }
   ],
   "source": [
    "result_file_id = client.fine_tuning.jobs.retrieve(fine_tune_job_id).result_files\n",
    "print(result_file_id[0])"
   ]
  },
  {
   "cell_type": "code",
   "execution_count": 83,
   "metadata": {},
   "outputs": [
    {
     "data": {
      "text/plain": [
       "<openai._legacy_response.HttpxBinaryResponseContent at 0x13117cdf0>"
      ]
     },
     "execution_count": 83,
     "metadata": {},
     "output_type": "execute_result"
    }
   ],
   "source": [
    "client.files.content('file-CtR1HdBjS6gQL8CWz50nA1Vv')"
   ]
  },
  {
   "cell_type": "code",
   "execution_count": 94,
   "metadata": {},
   "outputs": [],
   "source": [
    "\n",
    "\n",
    "# Retrieve the response from the client\n",
    "response_log = client.files.content('file-CtR1HdBjS6gQL8CWz50nA1Vv')\n",
    "\n",
    "# Get the response content (this should give you the binary content)\n",
    "response_content_log = response_log.read()\n",
    "\n",
    "# If the content is Base64 encoded, decode it:\n",
    "# Assuming the content is Base64 encoded, decode it into original bytes\n",
    "decoded_bytes = base64.b64decode(response_content_log)\n",
    "\n",
    "# Write the decoded bytes to the file\n",
    "with open('retrieved_file.csv', 'wb') as file:\n",
    "    file.write(decoded_bytes)"
   ]
  },
  {
   "cell_type": "markdown",
   "metadata": {},
   "source": [
    "# Prompt Engineering"
   ]
  },
  {
   "cell_type": "markdown",
   "metadata": {},
   "source": [
    "## Get the standard answer for prompt"
   ]
  },
  {
   "cell_type": "code",
   "execution_count": 11,
   "metadata": {},
   "outputs": [],
   "source": [
    "standard_question = df.iloc[1]['question']\n",
    "standard_rubric = df.iloc[1]['rubric']\n",
    "standard_answer = df.iloc[1]['answer']\n",
    "standard_task_title = df.iloc[1]['task_title']\n",
    "standard_task_content = df.iloc[1]['task_content']"
   ]
  },
  {
   "cell_type": "code",
   "execution_count": 96,
   "metadata": {},
   "outputs": [
    {
     "name": "stdout",
     "output_type": "stream",
     "text": [
      "The orbits of other planets\n",
      "The orbits of other planets    The orbits of other planets     All of the other planets in our solar system also orbit or revolve around the Sun.&nbsp;    Check out     NASA's live solar system         feature to have a look at the path each planet takes as it orbits around the sun. Can you find each of the planets in our solar system? Make sure   you zoom in and out to find them all!    We have already looked at Earth's orbit in detail. Each planet has its own peculiar orbit around the Sun. They are all slightly different from Earth's.       Orbits of Solar System Planets             Planet        Axial tilt        Orbit details        Seasons        Day length        Year length          Mercury       2 degrees      Egg-shaped. Between 47 and 70 million kms from the Sun      Small angle tilt means Mercury revolves the Sun almost perfectly upright. No real seasons      58 Earth days      88 Earth days         Venus       3 degrees      Nearly a perfect circle      Small angle tilt means Venus revolves the Sun almost perfectly upright. No real seasons      243 Earth days      225 Earth days         Earth       23.5 degrees      Nearly circular      Every 90-93 Earth days. Warmer and colder temperatures experienced at opposite times by northern and southern hemispheres      23.9 Earth hours      365.25 Earth days         Mars       24 degrees      Egg-shaped      Vary in length depending on orbit around Sun. ‘Spring’ in the northern hemisphere is around 194 Mars days, whereas autumn is 142 Mars days      24 Earth hours and 37 minutes      687 Earth days         Jupiter       3 degrees      Oval-shaped. Parts of its orbit are 75 million km closer to the Sun than others      Conditions change roughly every three Earth years (coinciding with the distance from the Sun in its orbit)      9 Earth hours and 56 minutes      4,333 Earth days         Saturn       26.75 degrees      Oval-shaped      Conditions change roughly every seven Earth years (coinciding with the distance from the Sun in its orbit)      17 Earth hours and 14 minutes      10,759 Earth days         Uranus       97.8 degrees      Oval-shaped. Parts of its orbit are 270 million km closer to the Sun than others      About every 20 Earth years.    Uranus is the only planet whose equator is nearly at a right angle to its orbit. This unique tilt causes the most extreme seasons in the solar system. For nearly a quarter of each Uranian year, the Sun shines directly over each pole, plunging the other half of the planet into a 21-year-long, dark winter      17 Earth hours and 14 minutes      30,687 Earth days         Neptune       28.5 degrees      Oval-shaped      Change once every 40 years or so      16 Earth hours and 6 minutes      60,190 Earth days        &nbsp;    Demonstrating the orbits of other planets     Materials        Torches or a lamp (to represent the Sun)    Cameras for filming/taking photos      A ball or balloon (to represent the planet) or material to make a ball from (like Play-Doh)    A darkened space      Wooden skewers for the planet’s axis (but not if the planet is being modelled with a balloon!)   &nbsp;      You may need to ask (in advance) for any other specific materials which you need to complete their task   Method    Choose a planet other than Earth. Your team must model its orbit!    Using the same demonstration method as you did for your Earth’s orbit, demonstrate the orbit of your planet.&nbsp;    You can demonstrate your knowledge and understanding by making a short film, an enactment, or a model of the planet’s orbit. You’ll need to include:     an accurate axis tilt    the shape of the planet’s orbit    whether the planet experiences seasons like we do on Earth    whether your planet ever comes close to Earth when they are both orbiting the Sun     Once all groups have completed this task, it may be possible for all the groups to get together to coordinate a complete solar system with all planets orbiting around a sun. Distance is not being considered in this activity, just speed, so you would just need to try and determine how fast or slow their planet was orbiting around the Sun compared with Earth.     Share a video, photos, or explanation of the model your team made    Which planet had the fastest and slowest orbits? How long are they and why do you think this occurs?   Which planet has no tilted axis? Which planet has the most tilted axis? How does this affect these planets? &nbsp; \n",
      "Which planet had the fastest and slowest orbits? How long are they and why do you think this occurs?\n",
      "{\"items\": [\"I can explain why these planets have the fastest and slowest orbits\", \"I can identify which planet has both the fastest or the slowest orbit, and how long that orbit is\", \"I can identify which planet has either the fastest or the slowest orbit, and how long that orbit is\", \"No evidence\"], \"criteria\": \"Earth is part of a system of planets orbiting around a star (the Sun)\", \"total_score\": \"3\", \"curriculum_codes\": {\"au\": [\"AC9S6U02\", \"VCSSU078\", \"ST3-10ES-S\"]}}\n",
      "\"Mercury has the fastest orbit of 88 days. This happens as it is the closest planet to the Sun. Neptune has the slowest orbit of 60,190 days. This happens as it is the furthest planet from the Sun\"\n"
     ]
    }
   ],
   "source": [
    "print(standard_task_title)\n",
    "print(standard_task_content)\n",
    "print(standard_question)\n",
    "print(standard_rubric)\n",
    "\n",
    "print(standard_answer)"
   ]
  },
  {
   "cell_type": "markdown",
   "metadata": {},
   "source": [
    "## Estimate max token number"
   ]
  },
  {
   "cell_type": "code",
   "execution_count": 13,
   "metadata": {},
   "outputs": [],
   "source": [
    "\n",
    "\n",
    "def word_count(text):\n",
    "    # Using the regularization expression to remove the punctuation\n",
    "    cleaned_text = re.sub(r'[^\\w\\s]', '', text)\n",
    "    words = cleaned_text.split()\n",
    "    return len(words)\n",
    "\n",
    "min_count = min(df['answer'].apply(word_count).tolist())\n",
    "max_count = max(df['answer'].apply(word_count).tolist())\n",
    "\n",
    "\n"
   ]
  },
  {
   "cell_type": "code",
   "execution_count": 15,
   "metadata": {},
   "outputs": [
    {
     "name": "stdout",
     "output_type": "stream",
     "text": [
      "min count:  1\n",
      "max count:  203\n"
     ]
    }
   ],
   "source": [
    "print(\"min count: \", min_count)\n",
    "print(\"max count: \", max_count) "
   ]
  },
  {
   "cell_type": "code",
   "execution_count": 20,
   "metadata": {},
   "outputs": [
    {
     "data": {
      "text/plain": [
       "question_id                  2f8d9ef4-3fb1-4b81-99e3-989bbdd8ffdf\n",
       "task_id                      0a0d4334-c400-4f04-b38c-0b5715232731\n",
       "question        Draw a diagram of the two steps you used to se...\n",
       "rubric          {\"items\": [\"I can include all of the labels in...\n",
       "answer                                                   \"&nbsp;\"\n",
       "task_title                                 Sieving and filtration\n",
       "task_content    Sieving and filtration    Sieving     Sieving ...\n",
       "Name: 59, dtype: object"
      ]
     },
     "execution_count": 20,
     "metadata": {},
     "output_type": "execute_result"
    }
   ],
   "source": [
    "df.iloc[59]"
   ]
  },
  {
   "cell_type": "markdown",
   "metadata": {},
   "source": [
    "## Generate the prompt"
   ]
  },
  {
   "cell_type": "code",
   "execution_count": 97,
   "metadata": {},
   "outputs": [],
   "source": [
    "prompt_message = f''' You are an AI assistant designed to generate exemplar answers for educational purposes. Your task is to generate exemplar answers based on a provided student task context, question, and assessment rubric. The exemplar answers should:\n",
    "\n",
    "1. Clearly respond to the question by using information given in the student task context.\n",
    "2. Align with the criteria specified in the assessment rubric to ensure quality and correctness.\n",
    "3. Include relevant explanations, reasoning, and details that demonstrate a deep understanding of the topic.\n",
    "4. Serve as a reliable reference point for teachers when evaluating student responses.\n",
    "5. Be structured in a way that is clear, concise, and easy to follow, matching the language and comprehension level expected for the students.\n",
    "\n",
    "Here is an example of the task, question, and rubric you will be working with:\n",
    "\n",
    "(example Task Title: {standard_task_title}\n",
    "example Task Content: {standard_task_content}\n",
    "example question: {standard_question}\n",
    "example Rubric: {standard_rubric})\n",
    "\n",
    "Here is the official response to the example question:\n",
    "(example Answer: {standard_answer})\n",
    "\n",
    "Please generate an exemplar answer based on the provided information.\n",
    "'''\n"
   ]
  },
  {
   "cell_type": "code",
   "execution_count": 103,
   "metadata": {},
   "outputs": [],
   "source": [
    "def generate_answer(question,rubric,task_title,task_content):\n",
    "    try:\n",
    "        # context for GPT\n",
    "        prompt = prompt_message\n",
    "        question = f'''Task Title: {task_title}\\nTask Content: {task_content}\\nQuestion: {question}\\nRubric: {rubric}; Please generate an exemplar answer based on the provided information.'''\n",
    "        response = client.chat.completions.create(\n",
    "            model='ft:gpt-4o-mini-2024-07-18:personal::AMGvcji0',\n",
    "            messages=[\n",
    "                {\"role\": \"system\", \"content\": prompt},\n",
    "                {\"role\": \"user\", \"content\": question}\n",
    "            ]\n",
    "        )\n",
    "        answer = response.choices[0].message['content']\n",
    "        return answer\n",
    "    except Exception as e:\n",
    "        print(f\"Error generating answer: {e}\")\n",
    "        return f\"There was an error generating the answer: {e}\""
   ]
  },
  {
   "cell_type": "code",
   "execution_count": 108,
   "metadata": {},
   "outputs": [
    {
     "name": "stdout",
     "output_type": "stream",
     "text": [
      "Error generating answer: Error code: 403 - {'error': {'message': 'Project `proj_Nhn5J05hEJVxN9B3zTegcZ6x` does not have access to model `ft:gpt-4o-mini-2024-07-18:personal::AMGvcji0`', 'type': 'invalid_request_error', 'param': None, 'code': 'model_not_found'}}\n"
     ]
    },
    {
     "data": {
      "text/plain": [
       "\"There was an error generating the answer: Error code: 403 - {'error': {'message': 'Project `proj_Nhn5J05hEJVxN9B3zTegcZ6x` does not have access to model `ft:gpt-4o-mini-2024-07-18:personal::AMGvcji0`', 'type': 'invalid_request_error', 'param': None, 'code': 'model_not_found'}}\""
      ]
     },
     "execution_count": 108,
     "metadata": {},
     "output_type": "execute_result"
    }
   ],
   "source": [
    "generate_answer(standard_question,standard_rubric,standard_task_title,standard_task_content)"
   ]
  },
  {
   "cell_type": "code",
   "execution_count": 116,
   "metadata": {},
   "outputs": [
    {
     "data": {
      "text/plain": [
       "SyncPage[Model](data=[Model(id='gpt-4o-mini', created=1721172741, object='model', owned_by='system')], object='list')"
      ]
     },
     "execution_count": 116,
     "metadata": {},
     "output_type": "execute_result"
    }
   ],
   "source": [
    "from openai import OpenAI\n",
    "client = OpenAI()\n",
    "\n",
    "client.models.list()"
   ]
  },
  {
   "cell_type": "code",
   "execution_count": 125,
   "metadata": {},
   "outputs": [
    {
     "data": {
      "text/plain": [
       "SyncCursorPage[FineTuningJob](data=[FineTuningJob(id='ftjob-HItchoh2yNrQxi5lPJ4o0APq', created_at=1729871299, error=Error(code=None, message=None, param=None), fine_tuned_model='ft:gpt-4o-mini-2024-07-18:personal::AMGvcji0', finished_at=1729871650, hyperparameters=Hyperparameters(n_epochs=2, batch_size=1, learning_rate_multiplier=1.8), model='gpt-4o-mini-2024-07-18', object='fine_tuning.job', organization_id='org-1tLV13qTuF8etS5dptzigZgs', result_files=['file-CtR1HdBjS6gQL8CWz50nA1Vv'], seed=1296138184, status='succeeded', trained_tokens=225900, training_file='file-yOCQ3P6liWemIXBOpy0wemMP', validation_file='file-CBjO3IqPHfIb6avZGg7JWQPi', estimated_finish=None, integrations=[], user_provided_suffix=None), FineTuningJob(id='ftjob-MvTKG5ijt5phyliFNwopWdyR', created_at=1729870132, error=Error(code='invalid_training_file', message='The job failed due to an invalid training file. Invalid file format. Input file file-78XAD1TDfW32ZSy7VNedOHRg is in the prompt-completion format, but the specified model gpt-4o-mini-2024-07-18 is a chat model and requires chat-formatted data. See https://platform.openai.com/docs/guides/fine-tuning/preparing-your-dataset for details.', param='training_file'), fine_tuned_model=None, finished_at=None, hyperparameters=Hyperparameters(n_epochs=2, batch_size='auto', learning_rate_multiplier='auto'), model='gpt-4o-mini-2024-07-18', object='fine_tuning.job', organization_id='org-1tLV13qTuF8etS5dptzigZgs', result_files=[], seed=1556824472, status='failed', trained_tokens=None, training_file='file-78XAD1TDfW32ZSy7VNedOHRg', validation_file='file-JA3YSPPzDzj02sYyyvZcUu2J', estimated_finish=None, integrations=[], user_provided_suffix=None)], object='list', has_more=False)"
      ]
     },
     "execution_count": 125,
     "metadata": {},
     "output_type": "execute_result"
    }
   ],
   "source": [
    "client.fine_tuning.jobs.list()"
   ]
  }
 ],
 "metadata": {
  "kernelspec": {
   "display_name": "cura",
   "language": "python",
   "name": "python3"
  },
  "language_info": {
   "codemirror_mode": {
    "name": "ipython",
    "version": 3
   },
   "file_extension": ".py",
   "mimetype": "text/x-python",
   "name": "python",
   "nbconvert_exporter": "python",
   "pygments_lexer": "ipython3",
   "version": "3.8.20"
  }
 },
 "nbformat": 4,
 "nbformat_minor": 2
}
