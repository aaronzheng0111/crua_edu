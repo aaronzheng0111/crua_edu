{
 "cells": [
  {
   "cell_type": "markdown",
   "metadata": {},
   "source": [
    "# Import all library needed"
   ]
  },
  {
   "cell_type": "code",
   "execution_count": 1,
   "metadata": {},
   "outputs": [
    {
     "name": "stdout",
     "output_type": "stream",
     "text": [
      "Collecting openai\n",
      "  Using cached openai-1.52.2-py3-none-any.whl.metadata (24 kB)\n",
      "Collecting pytest\n",
      "  Using cached pytest-8.3.3-py3-none-any.whl.metadata (7.5 kB)\n",
      "Collecting pandas\n",
      "  Downloading pandas-2.2.3-cp39-cp39-macosx_10_9_x86_64.whl.metadata (89 kB)\n",
      "Collecting python-dotenv\n",
      "  Using cached python_dotenv-1.0.1-py3-none-any.whl.metadata (23 kB)\n",
      "Collecting scikit-learn\n",
      "  Downloading scikit_learn-1.5.2-cp39-cp39-macosx_10_9_x86_64.whl.metadata (13 kB)\n",
      "Collecting tiktoken\n",
      "  Downloading tiktoken-0.8.0-cp39-cp39-macosx_10_9_x86_64.whl.metadata (6.6 kB)\n",
      "Collecting matplotlib\n",
      "  Downloading matplotlib-3.9.2-cp39-cp39-macosx_10_12_x86_64.whl.metadata (11 kB)\n",
      "Collecting anyio<5,>=3.5.0 (from openai)\n",
      "  Downloading anyio-4.6.2.post1-py3-none-any.whl.metadata (4.7 kB)\n",
      "Collecting distro<2,>=1.7.0 (from openai)\n",
      "  Using cached distro-1.9.0-py3-none-any.whl.metadata (6.8 kB)\n",
      "Collecting httpx<1,>=0.23.0 (from openai)\n",
      "  Using cached httpx-0.27.2-py3-none-any.whl.metadata (7.1 kB)\n",
      "Collecting jiter<1,>=0.4.0 (from openai)\n",
      "  Downloading jiter-0.6.1-cp39-cp39-macosx_10_12_x86_64.whl.metadata (5.2 kB)\n",
      "Collecting pydantic<3,>=1.9.0 (from openai)\n",
      "  Using cached pydantic-2.9.2-py3-none-any.whl.metadata (149 kB)\n",
      "Collecting sniffio (from openai)\n",
      "  Using cached sniffio-1.3.1-py3-none-any.whl.metadata (3.9 kB)\n",
      "Collecting tqdm>4 (from openai)\n",
      "  Using cached tqdm-4.66.5-py3-none-any.whl.metadata (57 kB)\n",
      "Requirement already satisfied: typing-extensions<5,>=4.11 in /Users/aaronz/anaconda3/envs/cura/lib/python3.9/site-packages (from openai) (4.12.2)\n",
      "Collecting iniconfig (from pytest)\n",
      "  Using cached iniconfig-2.0.0-py3-none-any.whl.metadata (2.6 kB)\n",
      "Requirement already satisfied: packaging in /Users/aaronz/anaconda3/envs/cura/lib/python3.9/site-packages (from pytest) (24.1)\n",
      "Collecting pluggy<2,>=1.5 (from pytest)\n",
      "  Using cached pluggy-1.5.0-py3-none-any.whl.metadata (4.8 kB)\n",
      "Collecting exceptiongroup>=1.0.0rc8 (from pytest)\n",
      "  Using cached exceptiongroup-1.2.2-py3-none-any.whl.metadata (6.6 kB)\n",
      "Collecting tomli>=1 (from pytest)\n",
      "  Using cached tomli-2.0.2-py3-none-any.whl.metadata (10.0 kB)\n",
      "Collecting numpy>=1.22.4 (from pandas)\n",
      "  Downloading numpy-2.0.2-cp39-cp39-macosx_14_0_x86_64.whl.metadata (60 kB)\n",
      "Requirement already satisfied: python-dateutil>=2.8.2 in /Users/aaronz/anaconda3/envs/cura/lib/python3.9/site-packages (from pandas) (2.9.0)\n",
      "Collecting pytz>=2020.1 (from pandas)\n",
      "  Using cached pytz-2024.2-py2.py3-none-any.whl.metadata (22 kB)\n",
      "Collecting tzdata>=2022.7 (from pandas)\n",
      "  Using cached tzdata-2024.2-py2.py3-none-any.whl.metadata (1.4 kB)\n",
      "Collecting scipy>=1.6.0 (from scikit-learn)\n",
      "  Downloading scipy-1.13.1-cp39-cp39-macosx_10_9_x86_64.whl.metadata (60 kB)\n",
      "Collecting joblib>=1.2.0 (from scikit-learn)\n",
      "  Using cached joblib-1.4.2-py3-none-any.whl.metadata (5.4 kB)\n",
      "Collecting threadpoolctl>=3.1.0 (from scikit-learn)\n",
      "  Using cached threadpoolctl-3.5.0-py3-none-any.whl.metadata (13 kB)\n",
      "Collecting regex>=2022.1.18 (from tiktoken)\n",
      "  Downloading regex-2024.9.11-cp39-cp39-macosx_10_9_x86_64.whl.metadata (40 kB)\n",
      "Collecting requests>=2.26.0 (from tiktoken)\n",
      "  Downloading requests-2.32.3-py3-none-any.whl.metadata (4.6 kB)\n",
      "Collecting contourpy>=1.0.1 (from matplotlib)\n",
      "  Downloading contourpy-1.3.0-cp39-cp39-macosx_10_9_x86_64.whl.metadata (5.4 kB)\n",
      "Collecting cycler>=0.10 (from matplotlib)\n",
      "  Using cached cycler-0.12.1-py3-none-any.whl.metadata (3.8 kB)\n",
      "Collecting fonttools>=4.22.0 (from matplotlib)\n",
      "  Downloading fonttools-4.54.1-cp39-cp39-macosx_10_9_universal2.whl.metadata (163 kB)\n",
      "Collecting kiwisolver>=1.3.1 (from matplotlib)\n",
      "  Downloading kiwisolver-1.4.7-cp39-cp39-macosx_10_9_x86_64.whl.metadata (6.3 kB)\n",
      "Collecting pillow>=8 (from matplotlib)\n",
      "  Downloading pillow-11.0.0-cp39-cp39-macosx_10_10_x86_64.whl.metadata (9.1 kB)\n",
      "Collecting pyparsing>=2.3.1 (from matplotlib)\n",
      "  Downloading pyparsing-3.2.0-py3-none-any.whl.metadata (5.0 kB)\n",
      "Collecting importlib-resources>=3.2.0 (from matplotlib)\n",
      "  Downloading importlib_resources-6.4.5-py3-none-any.whl.metadata (4.0 kB)\n",
      "Collecting idna>=2.8 (from anyio<5,>=3.5.0->openai)\n",
      "  Using cached idna-3.10-py3-none-any.whl.metadata (10 kB)\n",
      "Collecting certifi (from httpx<1,>=0.23.0->openai)\n",
      "  Using cached certifi-2024.8.30-py3-none-any.whl.metadata (2.2 kB)\n",
      "Collecting httpcore==1.* (from httpx<1,>=0.23.0->openai)\n",
      "  Using cached httpcore-1.0.6-py3-none-any.whl.metadata (21 kB)\n",
      "Collecting h11<0.15,>=0.13 (from httpcore==1.*->httpx<1,>=0.23.0->openai)\n",
      "  Using cached h11-0.14.0-py3-none-any.whl.metadata (8.2 kB)\n",
      "Requirement already satisfied: zipp>=3.1.0 in /Users/aaronz/anaconda3/envs/cura/lib/python3.9/site-packages (from importlib-resources>=3.2.0->matplotlib) (3.20.2)\n",
      "Collecting annotated-types>=0.6.0 (from pydantic<3,>=1.9.0->openai)\n",
      "  Using cached annotated_types-0.7.0-py3-none-any.whl.metadata (15 kB)\n",
      "Collecting pydantic-core==2.23.4 (from pydantic<3,>=1.9.0->openai)\n",
      "  Downloading pydantic_core-2.23.4-cp39-cp39-macosx_10_12_x86_64.whl.metadata (6.6 kB)\n",
      "Requirement already satisfied: six>=1.5 in /Users/aaronz/anaconda3/envs/cura/lib/python3.9/site-packages (from python-dateutil>=2.8.2->pandas) (1.16.0)\n",
      "Collecting charset-normalizer<4,>=2 (from requests>=2.26.0->tiktoken)\n",
      "  Downloading charset_normalizer-3.4.0-cp39-cp39-macosx_10_9_x86_64.whl.metadata (34 kB)\n",
      "Collecting urllib3<3,>=1.21.1 (from requests>=2.26.0->tiktoken)\n",
      "  Downloading urllib3-2.2.3-py3-none-any.whl.metadata (6.5 kB)\n",
      "Using cached openai-1.52.2-py3-none-any.whl (386 kB)\n",
      "Using cached pytest-8.3.3-py3-none-any.whl (342 kB)\n",
      "Downloading pandas-2.2.3-cp39-cp39-macosx_10_9_x86_64.whl (12.6 MB)\n",
      "\u001b[2K   \u001b[90m━━━━━━━━━━━━━━━━━━━━━━━━━━━━━━━━━━━━━━━━\u001b[0m \u001b[32m12.6/12.6 MB\u001b[0m \u001b[31m32.9 MB/s\u001b[0m eta \u001b[36m0:00:00\u001b[0m \u001b[36m0:00:01\u001b[0m\n",
      "\u001b[?25hUsing cached python_dotenv-1.0.1-py3-none-any.whl (19 kB)\n",
      "Downloading scikit_learn-1.5.2-cp39-cp39-macosx_10_9_x86_64.whl (12.1 MB)\n",
      "\u001b[2K   \u001b[90m━━━━━━━━━━━━━━━━━━━━━━━━━━━━━━━━━━━━━━━━\u001b[0m \u001b[32m12.1/12.1 MB\u001b[0m \u001b[31m39.8 MB/s\u001b[0m eta \u001b[36m0:00:00\u001b[0ma \u001b[36m0:00:01\u001b[0m\n",
      "\u001b[?25hDownloading tiktoken-0.8.0-cp39-cp39-macosx_10_9_x86_64.whl (1.0 MB)\n",
      "\u001b[2K   \u001b[90m━━━━━━━━━━━━━━━━━━━━━━━━━━━━━━━━━━━━━━━━\u001b[0m \u001b[32m1.0/1.0 MB\u001b[0m \u001b[31m17.3 MB/s\u001b[0m eta \u001b[36m0:00:00\u001b[0m\n",
      "\u001b[?25hDownloading matplotlib-3.9.2-cp39-cp39-macosx_10_12_x86_64.whl (7.9 MB)\n",
      "\u001b[2K   \u001b[90m━━━━━━━━━━━━━━━━━━━━━━━━━━━━━━━━━━━━━━━━\u001b[0m \u001b[32m7.9/7.9 MB\u001b[0m \u001b[31m37.1 MB/s\u001b[0m eta \u001b[36m0:00:00\u001b[0m00:01\u001b[0m\n",
      "\u001b[?25hDownloading anyio-4.6.2.post1-py3-none-any.whl (90 kB)\n",
      "Downloading contourpy-1.3.0-cp39-cp39-macosx_10_9_x86_64.whl (265 kB)\n",
      "Using cached cycler-0.12.1-py3-none-any.whl (8.3 kB)\n",
      "Using cached distro-1.9.0-py3-none-any.whl (20 kB)\n",
      "Using cached exceptiongroup-1.2.2-py3-none-any.whl (16 kB)\n",
      "Downloading fonttools-4.54.1-cp39-cp39-macosx_10_9_universal2.whl (2.8 MB)\n",
      "\u001b[2K   \u001b[90m━━━━━━━━━━━━━━━━━━━━━━━━━━━━━━━━━━━━━━━━\u001b[0m \u001b[32m2.8/2.8 MB\u001b[0m \u001b[31m32.0 MB/s\u001b[0m eta \u001b[36m0:00:00\u001b[0m\n",
      "\u001b[?25hUsing cached httpx-0.27.2-py3-none-any.whl (76 kB)\n",
      "Using cached httpcore-1.0.6-py3-none-any.whl (78 kB)\n",
      "Downloading importlib_resources-6.4.5-py3-none-any.whl (36 kB)\n",
      "Downloading jiter-0.6.1-cp39-cp39-macosx_10_12_x86_64.whl (290 kB)\n",
      "Using cached joblib-1.4.2-py3-none-any.whl (301 kB)\n",
      "Downloading kiwisolver-1.4.7-cp39-cp39-macosx_10_9_x86_64.whl (65 kB)\n",
      "Downloading numpy-2.0.2-cp39-cp39-macosx_14_0_x86_64.whl (6.9 MB)\n",
      "\u001b[2K   \u001b[90m━━━━━━━━━━━━━━━━━━━━━━━━━━━━━━━━━━━━━━━━\u001b[0m \u001b[32m6.9/6.9 MB\u001b[0m \u001b[31m34.8 MB/s\u001b[0m eta \u001b[36m0:00:00\u001b[0m\n",
      "\u001b[?25hDownloading pillow-11.0.0-cp39-cp39-macosx_10_10_x86_64.whl (3.2 MB)\n",
      "\u001b[2K   \u001b[90m━━━━━━━━━━━━━━━━━━━━━━━━━━━━━━━━━━━━━━━━\u001b[0m \u001b[32m3.2/3.2 MB\u001b[0m \u001b[31m33.5 MB/s\u001b[0m eta \u001b[36m0:00:00\u001b[0m\n",
      "\u001b[?25hUsing cached pluggy-1.5.0-py3-none-any.whl (20 kB)\n",
      "Using cached pydantic-2.9.2-py3-none-any.whl (434 kB)\n",
      "Downloading pydantic_core-2.23.4-cp39-cp39-macosx_10_12_x86_64.whl (1.9 MB)\n",
      "\u001b[2K   \u001b[90m━━━━━━━━━━━━━━━━━━━━━━━━━━━━━━━━━━━━━━━━\u001b[0m \u001b[32m1.9/1.9 MB\u001b[0m \u001b[31m26.0 MB/s\u001b[0m eta \u001b[36m0:00:00\u001b[0m\n",
      "\u001b[?25hDownloading pyparsing-3.2.0-py3-none-any.whl (106 kB)\n",
      "Using cached pytz-2024.2-py2.py3-none-any.whl (508 kB)\n",
      "Downloading regex-2024.9.11-cp39-cp39-macosx_10_9_x86_64.whl (287 kB)\n",
      "Downloading requests-2.32.3-py3-none-any.whl (64 kB)\n",
      "Downloading scipy-1.13.1-cp39-cp39-macosx_10_9_x86_64.whl (39.4 MB)\n",
      "\u001b[2K   \u001b[90m━━━━━━━━━━━━━━━━━━━━━━━━━━━━━━━━━━━━━━━━\u001b[0m \u001b[32m39.4/39.4 MB\u001b[0m \u001b[31m47.2 MB/s\u001b[0m eta \u001b[36m0:00:00\u001b[0m00:01\u001b[0m00:01\u001b[0m\n",
      "\u001b[?25hUsing cached sniffio-1.3.1-py3-none-any.whl (10 kB)\n",
      "Using cached threadpoolctl-3.5.0-py3-none-any.whl (18 kB)\n",
      "Using cached tomli-2.0.2-py3-none-any.whl (13 kB)\n",
      "Using cached tqdm-4.66.5-py3-none-any.whl (78 kB)\n",
      "Using cached tzdata-2024.2-py2.py3-none-any.whl (346 kB)\n",
      "Using cached iniconfig-2.0.0-py3-none-any.whl (5.9 kB)\n",
      "Using cached annotated_types-0.7.0-py3-none-any.whl (13 kB)\n",
      "Using cached certifi-2024.8.30-py3-none-any.whl (167 kB)\n",
      "Downloading charset_normalizer-3.4.0-cp39-cp39-macosx_10_9_x86_64.whl (125 kB)\n",
      "Using cached idna-3.10-py3-none-any.whl (70 kB)\n",
      "Downloading urllib3-2.2.3-py3-none-any.whl (126 kB)\n",
      "Using cached h11-0.14.0-py3-none-any.whl (58 kB)\n",
      "Installing collected packages: pytz, urllib3, tzdata, tqdm, tomli, threadpoolctl, sniffio, regex, python-dotenv, pyparsing, pydantic-core, pluggy, pillow, numpy, kiwisolver, joblib, jiter, iniconfig, importlib-resources, idna, h11, fonttools, exceptiongroup, distro, cycler, charset-normalizer, certifi, annotated-types, scipy, requests, pytest, pydantic, pandas, httpcore, contourpy, anyio, tiktoken, scikit-learn, matplotlib, httpx, openai\n",
      "Successfully installed annotated-types-0.7.0 anyio-4.6.2.post1 certifi-2024.8.30 charset-normalizer-3.4.0 contourpy-1.3.0 cycler-0.12.1 distro-1.9.0 exceptiongroup-1.2.2 fonttools-4.54.1 h11-0.14.0 httpcore-1.0.6 httpx-0.27.2 idna-3.10 importlib-resources-6.4.5 iniconfig-2.0.0 jiter-0.6.1 joblib-1.4.2 kiwisolver-1.4.7 matplotlib-3.9.2 numpy-2.0.2 openai-1.52.2 pandas-2.2.3 pillow-11.0.0 pluggy-1.5.0 pydantic-2.9.2 pydantic-core-2.23.4 pyparsing-3.2.0 pytest-8.3.3 python-dotenv-1.0.1 pytz-2024.2 regex-2024.9.11 requests-2.32.3 scikit-learn-1.5.2 scipy-1.13.1 sniffio-1.3.1 threadpoolctl-3.5.0 tiktoken-0.8.0 tomli-2.0.2 tqdm-4.66.5 tzdata-2024.2 urllib3-2.2.3\n",
      "Note: you may need to restart the kernel to use updated packages.\n"
     ]
    },
    {
     "name": "stderr",
     "output_type": "stream",
     "text": [
      "Matplotlib is building the font cache; this may take a moment.\n"
     ]
    }
   ],
   "source": [
    "\n",
    "%pip install openai pytest pandas python-dotenv scikit-learn tiktoken matplotlib\n",
    "\n",
    "import openai\n",
    "import pandas as pd\n",
    "import pytest\n",
    "import json\n",
    "from dotenv import load_dotenv\n",
    "import os\n",
    "from sklearn.model_selection import train_test_split\n",
    "import base64\n",
    "import re\n",
    "import tiktoken\n",
    "import matplotlib.pyplot as plt"
   ]
  },
  {
   "cell_type": "markdown",
   "metadata": {},
   "source": [
    "# Analyze the data provided"
   ]
  },
  {
   "cell_type": "code",
   "execution_count": 2,
   "metadata": {},
   "outputs": [],
   "source": [
    "df = pd.read_json('cura-llm-training-data.json')"
   ]
  },
  {
   "cell_type": "code",
   "execution_count": 3,
   "metadata": {},
   "outputs": [
    {
     "data": {
      "text/html": [
       "<div>\n",
       "<style scoped>\n",
       "    .dataframe tbody tr th:only-of-type {\n",
       "        vertical-align: middle;\n",
       "    }\n",
       "\n",
       "    .dataframe tbody tr th {\n",
       "        vertical-align: top;\n",
       "    }\n",
       "\n",
       "    .dataframe thead th {\n",
       "        text-align: right;\n",
       "    }\n",
       "</style>\n",
       "<table border=\"1\" class=\"dataframe\">\n",
       "  <thead>\n",
       "    <tr style=\"text-align: right;\">\n",
       "      <th></th>\n",
       "      <th>question_id</th>\n",
       "      <th>task_id</th>\n",
       "      <th>question</th>\n",
       "      <th>rubric</th>\n",
       "      <th>answer</th>\n",
       "      <th>task_title</th>\n",
       "      <th>task_content</th>\n",
       "    </tr>\n",
       "  </thead>\n",
       "  <tbody>\n",
       "    <tr>\n",
       "      <th>0</th>\n",
       "      <td>8b1d6474-a38a-4456-8ac2-74ff054b9d67</td>\n",
       "      <td>41f89fd8-0d25-4aa7-848c-6840f01023da</td>\n",
       "      <td>Which fin design worked best? Why?</td>\n",
       "      <td>{\"items\": [\"I can explain my response\", \"I can...</td>\n",
       "      <td>\"Fin designs that have three or four triangula...</td>\n",
       "      <td>Designing your rocket</td>\n",
       "      <td>Designing your rocket    Building phase     Th...</td>\n",
       "    </tr>\n",
       "    <tr>\n",
       "      <th>1</th>\n",
       "      <td>8add417a-4108-43e6-b033-4fa72ac4f709</td>\n",
       "      <td>35d95305-bc3a-461a-ba96-83063257f32d</td>\n",
       "      <td>Which planet had the fastest and slowest orbit...</td>\n",
       "      <td>{\"items\": [\"I can explain why these planets ha...</td>\n",
       "      <td>\"Mercury has the fastest orbit of 88 days. Thi...</td>\n",
       "      <td>The orbits of other planets</td>\n",
       "      <td>The orbits of other planets    The orbits of o...</td>\n",
       "    </tr>\n",
       "    <tr>\n",
       "      <th>2</th>\n",
       "      <td>89edd167-18ed-40ba-93f1-93999a800097</td>\n",
       "      <td>c4c7058a-5f65-45a2-b097-30733070e4bd</td>\n",
       "      <td>Based on your results (ie. shape, volume, and ...</td>\n",
       "      <td>{\"items\": [\"I can identify the three propertie...</td>\n",
       "      <td>\"Exemplar AnswerSolids - shape did not change,...</td>\n",
       "      <td>What are objects made of?</td>\n",
       "      <td>What are objects made of?    What affects whet...</td>\n",
       "    </tr>\n",
       "    <tr>\n",
       "      <th>3</th>\n",
       "      <td>8632c092-ea9f-4ba2-bdfa-d2f335c95247</td>\n",
       "      <td>cb21ad07-eed4-49a4-9d63-5e266a0b19b0</td>\n",
       "      <td>Determine the ratio of the load force to effor...</td>\n",
       "      <td>{\"items\": [\"I can explain how we know this\", \"...</td>\n",
       "      <td>\"The ratio of the load force to the effort for...</td>\n",
       "      <td>Forces in action - seesaws</td>\n",
       "      <td>Forces in action - seesaws    Turning forces  ...</td>\n",
       "    </tr>\n",
       "    <tr>\n",
       "      <th>4</th>\n",
       "      <td>8422d140-5d31-4933-ae45-52f380e1213a</td>\n",
       "      <td>fe99ba29-d69a-4231-8a66-badedae898b2</td>\n",
       "      <td>Describe the shape of the Earth’s orbit around...</td>\n",
       "      <td>{\"items\": [\"I can explain the shape of the Ear...</td>\n",
       "      <td>\"The Earth’s orbit around the Sun is an ellipt...</td>\n",
       "      <td>Earth's orbit</td>\n",
       "      <td>Earth's orbit    What is an orbit?     An orbi...</td>\n",
       "    </tr>\n",
       "    <tr>\n",
       "      <th>...</th>\n",
       "      <td>...</td>\n",
       "      <td>...</td>\n",
       "      <td>...</td>\n",
       "      <td>...</td>\n",
       "      <td>...</td>\n",
       "      <td>...</td>\n",
       "      <td>...</td>\n",
       "    </tr>\n",
       "    <tr>\n",
       "      <th>112</th>\n",
       "      <td>0e4305e5-9436-42e6-aa91-0d417d0e6b7b</td>\n",
       "      <td>62531e3f-7652-4a5c-b6ff-2e774b4f05a9</td>\n",
       "      <td>What type of material would you use if you wan...</td>\n",
       "      <td>{\"items\": [\"I can explain my answer\", \"I can c...</td>\n",
       "      <td>\"Translucent. Only some light passes through i...</td>\n",
       "      <td>Light absorption</td>\n",
       "      <td>Light absorption    Struck by light     What h...</td>\n",
       "    </tr>\n",
       "    <tr>\n",
       "      <th>113</th>\n",
       "      <td>e2ff5709-711c-487a-b4ef-032473532b2d</td>\n",
       "      <td>59c94ba6-4402-4d28-88d2-bbe2f2e8f9a0</td>\n",
       "      <td>If you haven't already, watch this video of a ...</td>\n",
       "      <td>{\"items\": [\"I can explain how this is an illus...</td>\n",
       "      <td>\"When a vehicle suddenly stops or collides, th...</td>\n",
       "      <td>What is Newton’s first law of motion?</td>\n",
       "      <td>What is Newton’s first law of motion?    Force...</td>\n",
       "    </tr>\n",
       "    <tr>\n",
       "      <th>114</th>\n",
       "      <td>b1222c04-d4f6-4862-9d01-a0db711447e4</td>\n",
       "      <td>fb74d82a-43e6-4470-93ed-6f4d55e6df32</td>\n",
       "      <td>Based on what each group started with, which g...</td>\n",
       "      <td>{\"items\": [\"I can correctly identify all of th...</td>\n",
       "      <td>\"Group A - Regional/rural townGroup B - Smalle...</td>\n",
       "      <td>Why does liveability differ across places?</td>\n",
       "      <td>Why does liveability differ across places?    ...</td>\n",
       "    </tr>\n",
       "    <tr>\n",
       "      <th>115</th>\n",
       "      <td>d1907f44-d617-4487-a946-64e7c75dac2a</td>\n",
       "      <td>a03055ca-23ed-485d-ae06-6b4b8b51f811</td>\n",
       "      <td>It's 1204 CE and Genghis Khan has just defeate...</td>\n",
       "      <td>{\"items\": [\"I can suggest how to forge an alli...</td>\n",
       "      <td>\"Students could take different approaches for ...</td>\n",
       "      <td>How did Genghis Khan unify the Mongols?</td>\n",
       "      <td>How did Genghis Khan unify the Mongols?    Who...</td>\n",
       "    </tr>\n",
       "    <tr>\n",
       "      <th>116</th>\n",
       "      <td>fedd6dc3-d7c9-4695-b519-099cf905b0e3</td>\n",
       "      <td>3480da27-4529-4f25-8d7d-98a23204d9c1</td>\n",
       "      <td>If you were reflecting sunlight off a mirror o...</td>\n",
       "      <td>{\"items\": [\"I can explain whether or not this ...</td>\n",
       "      <td>\"Rain on the mirror would make the light refra...</td>\n",
       "      <td>Light refraction</td>\n",
       "      <td>Light refraction    What is refraction?     If...</td>\n",
       "    </tr>\n",
       "  </tbody>\n",
       "</table>\n",
       "<p>117 rows × 7 columns</p>\n",
       "</div>"
      ],
      "text/plain": [
       "                              question_id  \\\n",
       "0    8b1d6474-a38a-4456-8ac2-74ff054b9d67   \n",
       "1    8add417a-4108-43e6-b033-4fa72ac4f709   \n",
       "2    89edd167-18ed-40ba-93f1-93999a800097   \n",
       "3    8632c092-ea9f-4ba2-bdfa-d2f335c95247   \n",
       "4    8422d140-5d31-4933-ae45-52f380e1213a   \n",
       "..                                    ...   \n",
       "112  0e4305e5-9436-42e6-aa91-0d417d0e6b7b   \n",
       "113  e2ff5709-711c-487a-b4ef-032473532b2d   \n",
       "114  b1222c04-d4f6-4862-9d01-a0db711447e4   \n",
       "115  d1907f44-d617-4487-a946-64e7c75dac2a   \n",
       "116  fedd6dc3-d7c9-4695-b519-099cf905b0e3   \n",
       "\n",
       "                                  task_id  \\\n",
       "0    41f89fd8-0d25-4aa7-848c-6840f01023da   \n",
       "1    35d95305-bc3a-461a-ba96-83063257f32d   \n",
       "2    c4c7058a-5f65-45a2-b097-30733070e4bd   \n",
       "3    cb21ad07-eed4-49a4-9d63-5e266a0b19b0   \n",
       "4    fe99ba29-d69a-4231-8a66-badedae898b2   \n",
       "..                                    ...   \n",
       "112  62531e3f-7652-4a5c-b6ff-2e774b4f05a9   \n",
       "113  59c94ba6-4402-4d28-88d2-bbe2f2e8f9a0   \n",
       "114  fb74d82a-43e6-4470-93ed-6f4d55e6df32   \n",
       "115  a03055ca-23ed-485d-ae06-6b4b8b51f811   \n",
       "116  3480da27-4529-4f25-8d7d-98a23204d9c1   \n",
       "\n",
       "                                              question  \\\n",
       "0                   Which fin design worked best? Why?   \n",
       "1    Which planet had the fastest and slowest orbit...   \n",
       "2    Based on your results (ie. shape, volume, and ...   \n",
       "3    Determine the ratio of the load force to effor...   \n",
       "4    Describe the shape of the Earth’s orbit around...   \n",
       "..                                                 ...   \n",
       "112  What type of material would you use if you wan...   \n",
       "113  If you haven't already, watch this video of a ...   \n",
       "114  Based on what each group started with, which g...   \n",
       "115  It's 1204 CE and Genghis Khan has just defeate...   \n",
       "116  If you were reflecting sunlight off a mirror o...   \n",
       "\n",
       "                                                rubric  \\\n",
       "0    {\"items\": [\"I can explain my response\", \"I can...   \n",
       "1    {\"items\": [\"I can explain why these planets ha...   \n",
       "2    {\"items\": [\"I can identify the three propertie...   \n",
       "3    {\"items\": [\"I can explain how we know this\", \"...   \n",
       "4    {\"items\": [\"I can explain the shape of the Ear...   \n",
       "..                                                 ...   \n",
       "112  {\"items\": [\"I can explain my answer\", \"I can c...   \n",
       "113  {\"items\": [\"I can explain how this is an illus...   \n",
       "114  {\"items\": [\"I can correctly identify all of th...   \n",
       "115  {\"items\": [\"I can suggest how to forge an alli...   \n",
       "116  {\"items\": [\"I can explain whether or not this ...   \n",
       "\n",
       "                                                answer  \\\n",
       "0    \"Fin designs that have three or four triangula...   \n",
       "1    \"Mercury has the fastest orbit of 88 days. Thi...   \n",
       "2    \"Exemplar AnswerSolids - shape did not change,...   \n",
       "3    \"The ratio of the load force to the effort for...   \n",
       "4    \"The Earth’s orbit around the Sun is an ellipt...   \n",
       "..                                                 ...   \n",
       "112  \"Translucent. Only some light passes through i...   \n",
       "113  \"When a vehicle suddenly stops or collides, th...   \n",
       "114  \"Group A - Regional/rural townGroup B - Smalle...   \n",
       "115  \"Students could take different approaches for ...   \n",
       "116  \"Rain on the mirror would make the light refra...   \n",
       "\n",
       "                                     task_title  \\\n",
       "0                         Designing your rocket   \n",
       "1                   The orbits of other planets   \n",
       "2                     What are objects made of?   \n",
       "3                    Forces in action - seesaws   \n",
       "4                                 Earth's orbit   \n",
       "..                                          ...   \n",
       "112                            Light absorption   \n",
       "113       What is Newton’s first law of motion?   \n",
       "114  Why does liveability differ across places?   \n",
       "115     How did Genghis Khan unify the Mongols?   \n",
       "116                            Light refraction   \n",
       "\n",
       "                                          task_content  \n",
       "0    Designing your rocket    Building phase     Th...  \n",
       "1    The orbits of other planets    The orbits of o...  \n",
       "2    What are objects made of?    What affects whet...  \n",
       "3    Forces in action - seesaws    Turning forces  ...  \n",
       "4    Earth's orbit    What is an orbit?     An orbi...  \n",
       "..                                                 ...  \n",
       "112  Light absorption    Struck by light     What h...  \n",
       "113  What is Newton’s first law of motion?    Force...  \n",
       "114  Why does liveability differ across places?    ...  \n",
       "115  How did Genghis Khan unify the Mongols?    Who...  \n",
       "116  Light refraction    What is refraction?     If...  \n",
       "\n",
       "[117 rows x 7 columns]"
      ]
     },
     "execution_count": 3,
     "metadata": {},
     "output_type": "execute_result"
    }
   ],
   "source": [
    "df"
   ]
  },
  {
   "cell_type": "code",
   "execution_count": 4,
   "metadata": {},
   "outputs": [
    {
     "name": "stdout",
     "output_type": "stream",
     "text": [
      "question_id count:  117\n",
      "question count:  117\n",
      "answer count:  117\n",
      "task_id count:  59\n",
      "task_title count:  59\n",
      "task_content count:  59\n",
      "rubric count:  115\n"
     ]
    }
   ],
   "source": [
    "print(\"question_id count: \",len(set(df['question_id'])))\n",
    "print(\"question count: \",len(set(df['question'])))\n",
    "print(\"answer count: \",len(set(df['answer'])))\n",
    "print(\"task_id count: \",len(set(df['task_id'])))\n",
    "print(\"task_title count: \",len(set(df['task_title'])))\n",
    "print(\"task_content count: \",len(set(df['task_content'])))\n",
    "print(\"rubric count: \",len(set(df['rubric'])))"
   ]
  },
  {
   "cell_type": "code",
   "execution_count": 5,
   "metadata": {},
   "outputs": [
    {
     "name": "stdout",
     "output_type": "stream",
     "text": [
      "                             question_id  \\\n",
      "19  70ab1af4-12c9-4847-9efb-864ad4ed896e   \n",
      "82  0f99ba55-9e0b-48c2-94ee-dabcbf7ed2ed   \n",
      "96  06d8bcf5-3da2-473f-95b6-ca1c894ffc83   \n",
      "97  8b7edaf3-3bfb-4281-90bd-c3656aa29b20   \n",
      "\n",
      "                                 task_id  \\\n",
      "19  24bc38db-25f1-4e6f-b587-36b750356bb4   \n",
      "82  24bc38db-25f1-4e6f-b587-36b750356bb4   \n",
      "96  a6050fdf-1fc4-4b06-8d28-fe09e5e2f686   \n",
      "97  a6050fdf-1fc4-4b06-8d28-fe09e5e2f686   \n",
      "\n",
      "                                             question  \\\n",
      "19  What do these sources not tell you about ostra...   \n",
      "82  Combining evidence from all the sources, what ...   \n",
      "96  Look at the hypothetical pedigree diagram belo...   \n",
      "97  Look at the hypothetical pedigree diagram belo...   \n",
      "\n",
      "                                               rubric  \\\n",
      "19  {\"items\": [\"Makes a claim about ostracism that...   \n",
      "82  {\"items\": [\"Makes a claim about ostracism that...   \n",
      "96  {\"items\": [\"I can explain my answer using the ...   \n",
      "97  {\"items\": [\"I can explain my answer using the ...   \n",
      "\n",
      "                                               answer  \\\n",
      "19  \"They do not tell us how exactly the voting pr...   \n",
      "82  \"Although it seems democratic, ostracism was n...   \n",
      "96  \"The above pedigree diagram shows an autosomal...   \n",
      "97  \"The affected aliens are displaying an autosom...   \n",
      "\n",
      "                                          task_title  \\\n",
      "19                       Ostracism in Ancient Greece   \n",
      "82                       Ostracism in Ancient Greece   \n",
      "96  Can we predict which genes someone will inherit?   \n",
      "97  Can we predict which genes someone will inherit?   \n",
      "\n",
      "                                         task_content  \n",
      "19  Ostracism in Ancient Greece    Using primary a...  \n",
      "82  Ostracism in Ancient Greece    Using primary a...  \n",
      "96  Can we predict which genes someone will inheri...  \n",
      "97  Can we predict which genes someone will inheri...  \n"
     ]
    }
   ],
   "source": [
    "duplicate_rubrics = df[df.duplicated(subset=['rubric'], keep=False)]\n",
    "\n",
    "print(duplicate_rubrics)\n"
   ]
  },
  {
   "cell_type": "markdown",
   "metadata": {},
   "source": [
    "There is duplicated rubric,therefore check whether there is duplicate row from the data"
   ]
  },
  {
   "cell_type": "code",
   "execution_count": 6,
   "metadata": {},
   "outputs": [
    {
     "data": {
      "text/plain": [
       "'What do these sources not tell you about ostracism?'"
      ]
     },
     "execution_count": 6,
     "metadata": {},
     "output_type": "execute_result"
    }
   ],
   "source": [
    "df.iloc[19]['question']"
   ]
  },
  {
   "cell_type": "code",
   "execution_count": 7,
   "metadata": {},
   "outputs": [
    {
     "data": {
      "text/plain": [
       "'Combining evidence from all the sources, what do they tell you about ostracism?'"
      ]
     },
     "execution_count": 7,
     "metadata": {},
     "output_type": "execute_result"
    }
   ],
   "source": [
    "df.iloc[82]['question']"
   ]
  },
  {
   "cell_type": "code",
   "execution_count": 8,
   "metadata": {},
   "outputs": [
    {
     "data": {
      "text/plain": [
       "'Look at the hypothetical pedigree diagram below. It shows the inheritance of skin colour in aliens. Skin colour is inherited as an autosomal trait. Green (G) is dominant to orange (g).&nbsp;Are the affected aliens displaying the dominant or recessive trait? Give a specific reason for your answer with an example from the pedigree diagram'"
      ]
     },
     "execution_count": 8,
     "metadata": {},
     "output_type": "execute_result"
    }
   ],
   "source": [
    "df.iloc[96]['question']"
   ]
  },
  {
   "cell_type": "code",
   "execution_count": 9,
   "metadata": {},
   "outputs": [
    {
     "data": {
      "text/plain": [
       "'Look at the hypothetical pedigree diagram below. It shows the inheritance of horns in aliens. Horns are inherited as an autosomal trait. Horns (H) are dominant to no horns (h).&nbsp;Are the affected aliens displaying the dominant or recessive trait? Give a specific reason for your answer with an example from the pedigree diagram'"
      ]
     },
     "execution_count": 9,
     "metadata": {},
     "output_type": "execute_result"
    }
   ],
   "source": [
    "df.iloc[97]['question']"
   ]
  },
  {
   "cell_type": "markdown",
   "metadata": {},
   "source": [
    "After check, all the data provided seems normal."
   ]
  },
  {
   "cell_type": "markdown",
   "metadata": {},
   "source": [
    "# Get the api key from .env file"
   ]
  },
  {
   "cell_type": "code",
   "execution_count": 10,
   "metadata": {},
   "outputs": [],
   "source": [
    "# Load .env file\n",
    "load_dotenv()\n",
    "\n",
    "# From .env file to get the OpenAI API Key\n",
    "api_key = os.getenv(\"OPENAI_API_KEY\")"
   ]
  },
  {
   "cell_type": "markdown",
   "metadata": {},
   "source": [
    "# Fine tuning"
   ]
  },
  {
   "cell_type": "markdown",
   "metadata": {},
   "source": [
    "## Convert the data to fine tunning format"
   ]
  },
  {
   "cell_type": "code",
   "execution_count": 11,
   "metadata": {},
   "outputs": [],
   "source": [
    "# Read the original data\n",
    "with open(\"cura-llm-training-data.json\", \"r\") as file:\n",
    "    data = json.load(file)\n",
    "\n",
    "# convert to chat-formatted data\n",
    "with open(\"data/chat_fine_tuning_data.jsonl\", \"w\") as output_file:\n",
    "    for entry in data:\n",
    "        # Create chat-formatted data message\n",
    "        messages = [\n",
    "            {\"role\": \"system\", \"content\": \"You are an AI assistant designed to generate exemplar answers for educational purposes. Your task is to generate exemplar answers based on a provided student task context, question, and assessment rubric.\"},\n",
    "            {\"role\": \"user\", \"content\": f\"Task Title: {entry['task_title']}\\nTask Content: {entry['task_content']}\\nQuestion: {entry['question']}\\nRubric: {entry['rubric']}\"},\n",
    "            {\"role\": \"assistant\", \"content\": entry['answer']}\n",
    "        ]\n",
    "        \n",
    "        # convert to jsonl file\n",
    "        jsonl_entry = {\"messages\": messages}\n",
    "        output_file.write(json.dumps(jsonl_entry) + \"\\n\")\n",
    "\n"
   ]
  },
  {
   "cell_type": "markdown",
   "metadata": {},
   "source": [
    "## Train Test Validation Split"
   ]
  },
  {
   "cell_type": "markdown",
   "metadata": {},
   "source": [
    "Using the ratio 7:1.5:1.5 to divide the original data into train, test and validation dataset for fine tunning"
   ]
  },
  {
   "cell_type": "code",
   "execution_count": 12,
   "metadata": {},
   "outputs": [],
   "source": [
    "# # Loading the original data and shuffle the dataset\n",
    "# with open(\"data/chat_fine_tuning_data.jsonl\", \"r\") as file:\n",
    "#     data = [json.loads(line) for line in file]\n",
    "\n",
    "# # split the data into train test validation\n",
    "# train_data, temp_data = train_test_split(data, test_size=0.3, random_state=1025)\n",
    "# validation_data, test_data = train_test_split(temp_data, test_size=0.5, random_state=1025)\n",
    "\n",
    "# # save the split data\n",
    "# with open(\"data/finetuneData/train_data.jsonl\", \"w\") as train_file:\n",
    "#     for entry in train_data:\n",
    "#         train_file.write(json.dumps(entry) + \"\\n\")\n",
    "\n",
    "# with open(\"data/finetuneData/validation_data.jsonl\", \"w\") as validation_file:\n",
    "#     for entry in validation_data:\n",
    "#         validation_file.write(json.dumps(entry) + \"\\n\")\n",
    "\n",
    "# with open(\"data/finetuneData/test_data.jsonl\", \"w\") as test_file:\n",
    "#     for entry in test_data:\n",
    "#         test_file.write(json.dumps(entry) + \"\\n\")"
   ]
  },
  {
   "cell_type": "markdown",
   "metadata": {},
   "source": [
    "## Start Fine Tunning"
   ]
  },
  {
   "cell_type": "code",
   "execution_count": 13,
   "metadata": {},
   "outputs": [],
   "source": [
    "from openai import OpenAI\n",
    "client = OpenAI()\n",
    "\n",
    "client.api_key = api_key"
   ]
  },
  {
   "cell_type": "markdown",
   "metadata": {},
   "source": [
    "calculate the token may used for training the model"
   ]
  },
  {
   "cell_type": "code",
   "execution_count": 14,
   "metadata": {},
   "outputs": [
    {
     "name": "stdout",
     "output_type": "stream",
     "text": [
      "The number of trained dataset token number: 111767\n",
      "The number of validation dataset token number: 17730\n",
      "The total estimate number of token number be used: 129497\n"
     ]
    }
   ],
   "source": [
    "def count_tokens_in_jsonl(file_path, tokenizer):\n",
    "    total_tokens = 0\n",
    "    with open(file_path, 'r', encoding='utf-8') as f:\n",
    "        str = ''\n",
    "        for line in f:\n",
    "            data = json.loads(line)\n",
    "            prompt = data['messages'][0]['content']\n",
    "            user = data['messages'][1]['content']\n",
    "            asistant = data['messages'][2]['content']\n",
    "            str = prompt + user + asistant\n",
    "            tokens = tokenizer.encode(str)\n",
    "            total_tokens += len(tokens)\n",
    "    return total_tokens\n",
    "\n",
    "# Tarin and validation file path\n",
    "train_file_path = \"data/finetuneData/train_data.jsonl\"\n",
    "validation_file_path = \"data/finetuneData/validation_data.jsonl\"\n",
    "\n",
    "# Using tokenization\n",
    "tokenizer = tiktoken.encoding_for_model(\"gpt-4o-mini\")\n",
    "\n",
    "# calculate the token count\n",
    "train_token_count = count_tokens_in_jsonl(train_file_path, tokenizer)\n",
    "validation_token_count = count_tokens_in_jsonl(validation_file_path, tokenizer)\n",
    "\n",
    "# print out the token count\n",
    "print(f\"The number of trained dataset token number: {train_token_count}\")\n",
    "print(f\"The number of validation dataset token number: {validation_token_count}\")\n",
    "print(f\"The total estimate number of token number be used: {train_token_count + validation_token_count}\")"
   ]
  },
  {
   "cell_type": "markdown",
   "metadata": {},
   "source": [
    "### Upload the file"
   ]
  },
  {
   "cell_type": "code",
   "execution_count": 15,
   "metadata": {},
   "outputs": [],
   "source": [
    "\n",
    "# upload the train and validation data to OpenAI\n",
    "# response_train = client.files.create(file=open(\"data/finetuneData/train_data.jsonl\", \"rb\"), purpose='fine-tune')\n",
    "# response_valid = client.files.create(file=open(\"data/finetuneData/validation_data.jsonl\", \"rb\"), purpose='fine-tune')\n"
   ]
  },
  {
   "cell_type": "code",
   "execution_count": 16,
   "metadata": {},
   "outputs": [],
   "source": [
    "# print(\"Uploaded training file ID:\", response_train.id)\n",
    "# print(\"Uploaded validation file ID:\", response_valid.id)"
   ]
  },
  {
   "cell_type": "markdown",
   "metadata": {},
   "source": [
    "### start Fine Tunning"
   ]
  },
  {
   "cell_type": "code",
   "execution_count": 17,
   "metadata": {},
   "outputs": [],
   "source": [
    "\n",
    "# # Create a fine-tuning task\n",
    "# response_fine_tune_v1 = client.fine_tuning.jobs.create(\n",
    "#     training_file=response_train.id,\n",
    "#     validation_file=response_valid.id,\n",
    "#     model=\"gpt-4o-mini-2024-07-18\",\n",
    "#     hyperparameters={\n",
    "#     \"n_epochs\":2\n",
    "#   }\n",
    "# )\n"
   ]
  },
  {
   "cell_type": "code",
   "execution_count": 18,
   "metadata": {},
   "outputs": [
    {
     "name": "stdout",
     "output_type": "stream",
     "text": [
      "Fine-tuning job ID: ftjob-HItchoh2yNrQxi5lPJ4o0APq\n"
     ]
    }
   ],
   "source": [
    "# Get the fine-tune task ID\n",
    "# fine_tune_job_id = response_fine_tune_v1.id\n",
    "\n",
    "fine_tune_job_id = \"ftjob-HItchoh2yNrQxi5lPJ4o0APq\"\n",
    "\n",
    "print(\"Fine-tuning job ID:\", fine_tune_job_id)"
   ]
  },
  {
   "cell_type": "markdown",
   "metadata": {},
   "source": [
    "### Check the Fine tunning task"
   ]
  },
  {
   "cell_type": "code",
   "execution_count": 19,
   "metadata": {},
   "outputs": [
    {
     "name": "stdout",
     "output_type": "stream",
     "text": [
      "succeeded\n"
     ]
    }
   ],
   "source": [
    "print(client.fine_tuning.jobs.retrieve(fine_tune_job_id).status)"
   ]
  },
  {
   "cell_type": "code",
   "execution_count": 20,
   "metadata": {},
   "outputs": [
    {
     "name": "stdout",
     "output_type": "stream",
     "text": [
      "FineTuningJob(id='ftjob-HItchoh2yNrQxi5lPJ4o0APq', created_at=1729871299, error=Error(code=None, message=None, param=None), fine_tuned_model='ft:gpt-4o-mini-2024-07-18:personal::AMGvcji0', finished_at=1729871650, hyperparameters=Hyperparameters(n_epochs=2, batch_size=1, learning_rate_multiplier=1.8), model='gpt-4o-mini-2024-07-18', object='fine_tuning.job', organization_id='org-1tLV13qTuF8etS5dptzigZgs', result_files=['file-CtR1HdBjS6gQL8CWz50nA1Vv'], seed=1296138184, status='succeeded', trained_tokens=225900, training_file='file-yOCQ3P6liWemIXBOpy0wemMP', validation_file='file-CBjO3IqPHfIb6avZGg7JWQPi', estimated_finish=None, integrations=[], user_provided_suffix=None)\n"
     ]
    }
   ],
   "source": [
    "print(client.fine_tuning.jobs.retrieve(fine_tune_job_id))"
   ]
  },
  {
   "cell_type": "code",
   "execution_count": 21,
   "metadata": {},
   "outputs": [
    {
     "name": "stdout",
     "output_type": "stream",
     "text": [
      "file-CtR1HdBjS6gQL8CWz50nA1Vv\n"
     ]
    }
   ],
   "source": [
    "result_file_id = client.fine_tuning.jobs.retrieve(fine_tune_job_id).result_files\n",
    "print(result_file_id[0])"
   ]
  },
  {
   "cell_type": "code",
   "execution_count": 22,
   "metadata": {},
   "outputs": [
    {
     "data": {
      "text/plain": [
       "<openai._legacy_response.HttpxBinaryResponseContent at 0x13518a6a0>"
      ]
     },
     "execution_count": 22,
     "metadata": {},
     "output_type": "execute_result"
    }
   ],
   "source": [
    "client.files.content('file-CtR1HdBjS6gQL8CWz50nA1Vv')"
   ]
  },
  {
   "cell_type": "markdown",
   "metadata": {},
   "source": [
    "The actual token used for training"
   ]
  },
  {
   "cell_type": "code",
   "execution_count": 23,
   "metadata": {},
   "outputs": [
    {
     "name": "stdout",
     "output_type": "stream",
     "text": [
      "225900\n"
     ]
    }
   ],
   "source": [
    "print(client.fine_tuning.jobs.retrieve(fine_tune_job_id).trained_tokens)"
   ]
  },
  {
   "cell_type": "markdown",
   "metadata": {},
   "source": [
    "### Check the training log"
   ]
  },
  {
   "cell_type": "code",
   "execution_count": 24,
   "metadata": {},
   "outputs": [],
   "source": [
    "\n",
    "\n",
    "# # Retrieve the response from the client\n",
    "# response_log = client.files.content('file-CtR1HdBjS6gQL8CWz50nA1Vv')\n",
    "\n",
    "# # Get the response content (this should give you the binary content)\n",
    "# response_content_log = response_log.read()\n",
    "\n",
    "# # If the content is Base64 encoded, decode it:\n",
    "# # Assuming the content is Base64 encoded, decode it into original bytes\n",
    "# decoded_bytes = base64.b64decode(response_content_log)\n",
    "\n",
    "# # Write the decoded bytes to the file\n",
    "# with open('retrieved_file.csv', 'wb') as file:\n",
    "#     file.write(decoded_bytes)"
   ]
  },
  {
   "cell_type": "code",
   "execution_count": 25,
   "metadata": {},
   "outputs": [
    {
     "data": {
      "text/html": [
       "<div>\n",
       "<style scoped>\n",
       "    .dataframe tbody tr th:only-of-type {\n",
       "        vertical-align: middle;\n",
       "    }\n",
       "\n",
       "    .dataframe tbody tr th {\n",
       "        vertical-align: top;\n",
       "    }\n",
       "\n",
       "    .dataframe thead th {\n",
       "        text-align: right;\n",
       "    }\n",
       "</style>\n",
       "<table border=\"1\" class=\"dataframe\">\n",
       "  <thead>\n",
       "    <tr style=\"text-align: right;\">\n",
       "      <th></th>\n",
       "      <th>step</th>\n",
       "      <th>train_loss</th>\n",
       "      <th>train_accuracy</th>\n",
       "      <th>valid_loss</th>\n",
       "      <th>valid_mean_token_accuracy</th>\n",
       "    </tr>\n",
       "  </thead>\n",
       "  <tbody>\n",
       "    <tr>\n",
       "      <th>0</th>\n",
       "      <td>1</td>\n",
       "      <td>4.42250</td>\n",
       "      <td>0.40909</td>\n",
       "      <td>NaN</td>\n",
       "      <td>NaN</td>\n",
       "    </tr>\n",
       "    <tr>\n",
       "      <th>1</th>\n",
       "      <td>2</td>\n",
       "      <td>2.96151</td>\n",
       "      <td>0.44898</td>\n",
       "      <td>NaN</td>\n",
       "      <td>NaN</td>\n",
       "    </tr>\n",
       "    <tr>\n",
       "      <th>2</th>\n",
       "      <td>3</td>\n",
       "      <td>2.54146</td>\n",
       "      <td>0.49733</td>\n",
       "      <td>NaN</td>\n",
       "      <td>NaN</td>\n",
       "    </tr>\n",
       "    <tr>\n",
       "      <th>3</th>\n",
       "      <td>4</td>\n",
       "      <td>2.84433</td>\n",
       "      <td>0.55319</td>\n",
       "      <td>NaN</td>\n",
       "      <td>NaN</td>\n",
       "    </tr>\n",
       "    <tr>\n",
       "      <th>4</th>\n",
       "      <td>5</td>\n",
       "      <td>2.18460</td>\n",
       "      <td>0.55072</td>\n",
       "      <td>NaN</td>\n",
       "      <td>NaN</td>\n",
       "    </tr>\n",
       "    <tr>\n",
       "      <th>...</th>\n",
       "      <td>...</td>\n",
       "      <td>...</td>\n",
       "      <td>...</td>\n",
       "      <td>...</td>\n",
       "      <td>...</td>\n",
       "    </tr>\n",
       "    <tr>\n",
       "      <th>157</th>\n",
       "      <td>158</td>\n",
       "      <td>1.48344</td>\n",
       "      <td>0.65957</td>\n",
       "      <td>NaN</td>\n",
       "      <td>NaN</td>\n",
       "    </tr>\n",
       "    <tr>\n",
       "      <th>158</th>\n",
       "      <td>159</td>\n",
       "      <td>0.95391</td>\n",
       "      <td>0.79167</td>\n",
       "      <td>NaN</td>\n",
       "      <td>NaN</td>\n",
       "    </tr>\n",
       "    <tr>\n",
       "      <th>159</th>\n",
       "      <td>160</td>\n",
       "      <td>0.87577</td>\n",
       "      <td>0.77551</td>\n",
       "      <td>1.6071</td>\n",
       "      <td>0.61905</td>\n",
       "    </tr>\n",
       "    <tr>\n",
       "      <th>160</th>\n",
       "      <td>161</td>\n",
       "      <td>1.32539</td>\n",
       "      <td>0.60000</td>\n",
       "      <td>NaN</td>\n",
       "      <td>NaN</td>\n",
       "    </tr>\n",
       "    <tr>\n",
       "      <th>161</th>\n",
       "      <td>162</td>\n",
       "      <td>1.16526</td>\n",
       "      <td>0.69907</td>\n",
       "      <td>NaN</td>\n",
       "      <td>NaN</td>\n",
       "    </tr>\n",
       "  </tbody>\n",
       "</table>\n",
       "<p>162 rows × 5 columns</p>\n",
       "</div>"
      ],
      "text/plain": [
       "     step  train_loss  train_accuracy  valid_loss  valid_mean_token_accuracy\n",
       "0       1     4.42250         0.40909         NaN                        NaN\n",
       "1       2     2.96151         0.44898         NaN                        NaN\n",
       "2       3     2.54146         0.49733         NaN                        NaN\n",
       "3       4     2.84433         0.55319         NaN                        NaN\n",
       "4       5     2.18460         0.55072         NaN                        NaN\n",
       "..    ...         ...             ...         ...                        ...\n",
       "157   158     1.48344         0.65957         NaN                        NaN\n",
       "158   159     0.95391         0.79167         NaN                        NaN\n",
       "159   160     0.87577         0.77551      1.6071                    0.61905\n",
       "160   161     1.32539         0.60000         NaN                        NaN\n",
       "161   162     1.16526         0.69907         NaN                        NaN\n",
       "\n",
       "[162 rows x 5 columns]"
      ]
     },
     "execution_count": 25,
     "metadata": {},
     "output_type": "execute_result"
    }
   ],
   "source": [
    "training_log = pd.read_csv('retrieved_file.csv')\n",
    "training_log"
   ]
  },
  {
   "cell_type": "code",
   "execution_count": 26,
   "metadata": {},
   "outputs": [
    {
     "data": {
      "image/png": "[encoded data removed]",
      "text/plain": [
       "<Figure size 1600x800 with 2 Axes>"
      ]
     },
     "metadata": {},
     "output_type": "display_data"
    }
   ],
   "source": [
    "# Plotting train loss and train accuracy over steps\n",
    "plt.figure(figsize=(16, 8))\n",
    "\n",
    "# Train Loss - Using blue color\n",
    "plt.subplot(1, 2, 1)\n",
    "plt.plot(training_log['step'], training_log['train_loss'], label='Train Loss', color='blue', linewidth=2)\n",
    "plt.xlabel('Step', fontsize=14)\n",
    "plt.ylabel('Loss', fontsize=14)\n",
    "plt.title('Training Loss Over Steps', fontsize=16)\n",
    "plt.legend(loc='upper right', fontsize=12)\n",
    "plt.grid(True)\n",
    "\n",
    "# Train Accuracy - Using orange color\n",
    "plt.subplot(1, 2, 2)\n",
    "plt.plot(training_log['step'], training_log['train_accuracy'], label='Train Accuracy', color='orange', linewidth=2)\n",
    "plt.xlabel('Step', fontsize=14)\n",
    "plt.ylabel('Accuracy', fontsize=14)\n",
    "plt.title('Training Accuracy Over Steps', fontsize=16)\n",
    "plt.legend(loc='upper right', fontsize=12)\n",
    "plt.grid(True)\n",
    "\n",
    "plt.tight_layout()\n",
    "plt.show()"
   ]
  },
  {
   "cell_type": "code",
   "execution_count": 27,
   "metadata": {},
   "outputs": [
    {
     "data": {
      "image/png": "[encoded data removed]",
      "text/plain": [
       "<Figure size 1400x600 with 2 Axes>"
      ]
     },
     "metadata": {},
     "output_type": "display_data"
    }
   ],
   "source": [
    "# Filtering out rows where validation data is not NaN\n",
    "valid_log = training_log.dropna(subset=['valid_loss', 'valid_mean_token_accuracy'])\n",
    "\n",
    "# Plotting only the validation metrics for a clearer analysis\n",
    "plt.figure(figsize=(14, 6))\n",
    "\n",
    "# Validation Loss - Using green color\n",
    "plt.subplot(1, 2, 1)\n",
    "plt.plot(valid_log['step'], valid_log['valid_loss'], label='Validation Loss', color='green', linewidth=2)\n",
    "plt.xlabel('Step', fontsize=14)\n",
    "plt.ylabel('Validation Loss', fontsize=14)\n",
    "plt.title('Validation Loss Over Steps', fontsize=16)\n",
    "plt.legend(loc='upper right', fontsize=12)\n",
    "plt.grid(True)\n",
    "\n",
    "# Validation Mean Token Accuracy - Using red color\n",
    "plt.subplot(1, 2, 2)\n",
    "plt.plot(valid_log['step'], valid_log['valid_mean_token_accuracy'], label='Validation Mean Token Accuracy', color='red', linewidth=2)\n",
    "plt.xlabel('Step', fontsize=14)\n",
    "plt.ylabel('Mean Token Accuracy', fontsize=14)\n",
    "plt.title('Validation Mean Token Accuracy Over Steps', fontsize=16)\n",
    "plt.legend(loc='upper right', fontsize=12)\n",
    "plt.grid(True)\n",
    "\n",
    "plt.tight_layout()\n",
    "plt.show()\n"
   ]
  },
  {
   "cell_type": "markdown",
   "metadata": {},
   "source": [
    "# Prompt Engineering"
   ]
  },
  {
   "cell_type": "markdown",
   "metadata": {},
   "source": [
    "## Generate the prompt"
   ]
  },
  {
   "cell_type": "code",
   "execution_count": 66,
   "metadata": {},
   "outputs": [],
   "source": [
    "prompt_message = f''' Generate exemplar answers for educational purposes based on a provided student task context, question, and rubric. The exemplar should:\n",
    "\n",
    "Answer the question, using the information given in the context.\n",
    "Meet the assessment rubric criteria for quality and correctness.\n",
    "Be a reliable reference for teachers when evaluating students.\n",
    "Be clear, concise, easy to follow and short(max_completion_tokens = 260).\n",
    "'''\n"
   ]
  },
  {
   "cell_type": "markdown",
   "metadata": {},
   "source": [
    "## Estimate max token number"
   ]
  },
  {
   "cell_type": "markdown",
   "metadata": {},
   "source": [
    " The maximum token generated from the LLM should be:"
   ]
  },
  {
   "cell_type": "code",
   "execution_count": 67,
   "metadata": {},
   "outputs": [
    {
     "name": "stdout",
     "output_type": "stream",
     "text": [
      "min count:  3\n",
      "max count:  255\n"
     ]
    }
   ],
   "source": [
    "\n",
    "\n",
    "def word_count_token(text):\n",
    "    tokenizer = tiktoken.encoding_for_model(\"gpt-4o-mini\")  \n",
    "    tokens = tokenizer.encode(text)\n",
    "    return len(tokens)\n",
    "\n",
    "\n",
    "min_count = df['answer'].apply(word_count_token).min()\n",
    "max_count = df['answer'].apply(word_count_token).max()\n",
    "\n",
    "# print out the min and max token count in answers\n",
    "print(\"min count: \", min_count)\n",
    "print(\"max count: \", max_count)\n",
    "\n",
    "\n"
   ]
  },
  {
   "cell_type": "markdown",
   "metadata": {},
   "source": [
    "There is one special answer: The minimum token count inside the dataset's answer part"
   ]
  },
  {
   "cell_type": "code",
   "execution_count": 55,
   "metadata": {},
   "outputs": [
    {
     "name": "stdout",
     "output_type": "stream",
     "text": [
      "The minimum token count row:\n",
      "\n",
      "question_id                  2f8d9ef4-3fb1-4b81-99e3-989bbdd8ffdf\n",
      "task_id                      0a0d4334-c400-4f04-b38c-0b5715232731\n",
      "question        Draw a diagram of the two steps you used to se...\n",
      "rubric          {\"items\": [\"I can include all of the labels in...\n",
      "answer                                                   \"&nbsp;\"\n",
      "task_title                                 Sieving and filtration\n",
      "task_content    Sieving and filtration    Sieving     Sieving ...\n",
      "Name: 59, dtype: object\n"
     ]
    }
   ],
   "source": [
    "# Find the index of the row with the minimum token count\n",
    "min_index = df['answer'].apply(word_count_token).idxmin()\n",
    "\n",
    "min_row = df.loc[min_index]\n",
    "\n",
    "print(\"The minimum token count row:\\n\")\n",
    "print(min_row)\n"
   ]
  },
  {
   "cell_type": "code",
   "execution_count": 56,
   "metadata": {},
   "outputs": [
    {
     "name": "stdout",
     "output_type": "stream",
     "text": [
      "The maximum token count row:\n",
      "\n",
      "question_id                  d1907f44-d617-4487-a946-64e7c75dac2a\n",
      "task_id                      a03055ca-23ed-485d-ae06-6b4b8b51f811\n",
      "question        It's 1204 CE and Genghis Khan has just defeate...\n",
      "rubric          {\"items\": [\"I can suggest how to forge an alli...\n",
      "answer          \"Students could take different approaches for ...\n",
      "task_title                How did Genghis Khan unify the Mongols?\n",
      "task_content    How did Genghis Khan unify the Mongols?    Who...\n",
      "Name: 115, dtype: object\n"
     ]
    }
   ],
   "source": [
    "# Find the index of the row with the maximum token count\n",
    "max_index = df['answer'].apply(word_count_token).idxmax()\n",
    "\n",
    "max_row = df.loc[max_index]\n",
    "\n",
    "print(\"The maximum token count row:\\n\")\n",
    "print(max_row)"
   ]
  },
  {
   "cell_type": "markdown",
   "metadata": {},
   "source": [
    "# For generating the answer from test data"
   ]
  },
  {
   "cell_type": "code",
   "execution_count": 32,
   "metadata": {},
   "outputs": [],
   "source": [
    "with open(\"data/finetuneData/test_data.jsonl\", \"r\") as file:\n",
    "    test_data = [json.loads(line) for line in file]"
   ]
  },
  {
   "cell_type": "code",
   "execution_count": 33,
   "metadata": {},
   "outputs": [
    {
     "data": {
      "text/plain": [
       "{'role': 'user',\n",
       " 'content': 'Task Title: Evaporating in cooking\\nTask Content: Evaporating in cooking    Evaporation    Evaporating involves using heat to change a liquid into a gas. The heat causes the liquid\\'s molecules to vibrate faster and faster until they break free of the rest of the molecules and float away as a gas.  In cooking, we usually use evaporation to reduce the amount of water in a liquid. Words like  simmering  and  thickening  usually mean using heat to cook a liquid - often a sauce - for a long time so that some of the liquid evaporates. When this happens, you are left with a thicker, richer sauce.  Although it might seem like evaporating a liquid makes it disappear, this is actually an example of a  reversible change . When we evaporate liquid, we can catch or trap the water vapour (for example, by putting a lid over the pot/pan). This vapour will  condense  as it cools until it becomes a liquid again.  &nbsp;    Experimental protocol    Watch your teacher demonstrate how evaporation can be used to create a sauce - or complete the experiment yourself if you can do so safely.    Aim     To demonstrate how we can use evaporation to make a sauce     Materials         Juice from two oranges    Sugar      Non-reactive saucepan    Tablespoon      Hot plate   &nbsp;        Method      Pour the orange juice and one tablespoon of sugar into the saucepan    Place on the hot plate, stir and heat until boiling    Turn heat down so that the sauce is simmering    Simmer until the amount of liquid in the sauce has visibly reduced &amp; thickened     Why did the liquid in the pan reduce? Where did it go?   Evaporation is an important process in cooking. Explain what type of change evaporation is, where the water goes, and how you would undo this process &nbsp; \\nQuestion: Why did the liquid in the pan reduce? Where did it go?\\nRubric: {\"items\": [\"I can explain my answer\", \"I can identify why the liquid in the pan reduced and where it went\", \"No evidence\"], \"criteria\": \"compare reversible changes, including dissolving and changes of state, and irreversible changes, including cooking and rusting that produce new substances\", \"total_score\": \"2\", \"curriculum_codes\": {\"au\": [\"AC9S6U04\", \"VCSSU077\", \"ST3-6MW-S\"]}}'}"
      ]
     },
     "execution_count": 33,
     "metadata": {},
     "output_type": "execute_result"
    }
   ],
   "source": [
    "test_data[0]['messages'][1]"
   ]
  },
  {
   "cell_type": "code",
   "execution_count": 68,
   "metadata": {},
   "outputs": [
    {
     "name": "stdout",
     "output_type": "stream",
     "text": [
      "The total count of token used in gpt-4o-mini could be 22098\n"
     ]
    }
   ],
   "source": [
    "def count_tokens(text, model=\"gpt-4o-mini\"):\n",
    "    tokenizer = tiktoken.encoding_for_model(model)\n",
    "    tokens = tokenizer.encode(text)\n",
    "    return len(tokens)\n",
    "\n",
    "\n",
    "# Calculate the number of tokens input into the model\n",
    "test_token_count = 0\n",
    "\n",
    "for i in range(0, len(test_data)):\n",
    "    test_token_count += count_tokens(prompt_message+test_data[i]['messages'][1]['content'])\n",
    "    test_token_count += 260\n",
    "\n",
    "print(f\"The total count of token used in gpt-4o-mini could be {test_token_count}\")\n"
   ]
  },
  {
   "cell_type": "markdown",
   "metadata": {},
   "source": [
    "Since in this project, I will compare the \"gpt-4o-mini\" and my fine tunned model(Based on \"gpt-4o-mini\")"
   ]
  },
  {
   "cell_type": "code",
   "execution_count": 69,
   "metadata": {},
   "outputs": [
    {
     "name": "stdout",
     "output_type": "stream",
     "text": [
      "The final total count of token used in two models could be 44196\n"
     ]
    }
   ],
   "source": [
    "print(f\"The final total count of token used in two models could be {test_token_count * 2}\")\n"
   ]
  },
  {
   "cell_type": "markdown",
   "metadata": {},
   "source": [
    "## Start Genrate the test answer"
   ]
  },
  {
   "cell_type": "markdown",
   "metadata": {},
   "source": [
    "Make sure my Fine Tunned Models could work"
   ]
  },
  {
   "cell_type": "code",
   "execution_count": 36,
   "metadata": {},
   "outputs": [
    {
     "data": {
      "text/plain": [
       "SyncPage[Model](data=[Model(id='gpt-4o-mini', created=1721172741, object='model', owned_by='system'), Model(id='ft:gpt-4o-mini-2024-07-18:personal::AMGvcji0', created=1729871652, object='model', owned_by='user-5oqkyaaw32lkpj4pjc0qotwm'), Model(id='ft:gpt-4o-mini-2024-07-18:personal::AMGvbwO7:ckpt-step-81', created=1729871652, object='model', owned_by='user-5oqkyaaw32lkpj4pjc0qotwm')], object='list')"
      ]
     },
     "execution_count": 36,
     "metadata": {},
     "output_type": "execute_result"
    }
   ],
   "source": [
    "from openai import OpenAI\n",
    "client = OpenAI()\n",
    "\n",
    "client.models.list()"
   ]
  },
  {
   "cell_type": "code",
   "execution_count": 39,
   "metadata": {},
   "outputs": [
    {
     "data": {
      "text/plain": [
       "'Task Title: Evaporating in cooking\\nTask Content: Evaporating in cooking    Evaporation    Evaporating involves using heat to change a liquid into a gas. The heat causes the liquid\\'s molecules to vibrate faster and faster until they break free of the rest of the molecules and float away as a gas.  In cooking, we usually use evaporation to reduce the amount of water in a liquid. Words like  simmering  and  thickening  usually mean using heat to cook a liquid - often a sauce - for a long time so that some of the liquid evaporates. When this happens, you are left with a thicker, richer sauce.  Although it might seem like evaporating a liquid makes it disappear, this is actually an example of a  reversible change . When we evaporate liquid, we can catch or trap the water vapour (for example, by putting a lid over the pot/pan). This vapour will  condense  as it cools until it becomes a liquid again.  &nbsp;    Experimental protocol    Watch your teacher demonstrate how evaporation can be used to create a sauce - or complete the experiment yourself if you can do so safely.    Aim     To demonstrate how we can use evaporation to make a sauce     Materials         Juice from two oranges    Sugar      Non-reactive saucepan    Tablespoon      Hot plate   &nbsp;        Method      Pour the orange juice and one tablespoon of sugar into the saucepan    Place on the hot plate, stir and heat until boiling    Turn heat down so that the sauce is simmering    Simmer until the amount of liquid in the sauce has visibly reduced &amp; thickened     Why did the liquid in the pan reduce? Where did it go?   Evaporation is an important process in cooking. Explain what type of change evaporation is, where the water goes, and how you would undo this process &nbsp; \\nQuestion: Why did the liquid in the pan reduce? Where did it go?\\nRubric: {\"items\": [\"I can explain my answer\", \"I can identify why the liquid in the pan reduced and where it went\", \"No evidence\"], \"criteria\": \"compare reversible changes, including dissolving and changes of state, and irreversible changes, including cooking and rusting that produce new substances\", \"total_score\": \"2\", \"curriculum_codes\": {\"au\": [\"AC9S6U04\", \"VCSSU077\", \"ST3-6MW-S\"]}}'"
      ]
     },
     "execution_count": 39,
     "metadata": {},
     "output_type": "execute_result"
    }
   ],
   "source": [
    "test_data[0]['messages'][1]['content']"
   ]
  },
  {
   "cell_type": "code",
   "execution_count": null,
   "metadata": {},
   "outputs": [],
   "source": [
    "test_data[0]['messages'][1]['content']"
   ]
  },
  {
   "cell_type": "code",
   "execution_count": 74,
   "metadata": {},
   "outputs": [],
   "source": [
    "def generate_answer_fine_tune(input_question):\n",
    "    try:\n",
    "        # context for GPT\n",
    "        prompt = prompt_message\n",
    "        question = input_question\n",
    "        response = client.chat.completions.create(\n",
    "            model='ft:gpt-4o-mini-2024-07-18:personal::AMGvcji0',\n",
    "            messages=[\n",
    "                {\"role\": \"system\", \"content\": prompt},\n",
    "                {\"role\": \"user\", \"content\": question}\n",
    "            ],\n",
    "            max_completion_tokens = 260,\n",
    "            temperature=0.3\n",
    "        )\n",
    "        answer = response.choices[0].message.content\n",
    "        return answer\n",
    "    except Exception as e:\n",
    "        print(f\"Error generating answer: {e}\")\n",
    "        return f\"There was an error generating the answer: {e}\""
   ]
  },
  {
   "cell_type": "code",
   "execution_count": 75,
   "metadata": {},
   "outputs": [
    {
     "name": "stdout",
     "output_type": "stream",
     "text": [
      "\"Trypsin broke down the protein into smaller molecules called peptides. This was shown by the biuret test which turned purple when it came into contact with the peptides\"\n"
     ]
    }
   ],
   "source": [
    "# this_fine_tunned_answer = generate_answer_fine_tune(test_data[4]['messages'][1]['content'])\n",
    "# print(this_fine_tunned_answer)"
   ]
  },
  {
   "cell_type": "code",
   "execution_count": 76,
   "metadata": {},
   "outputs": [],
   "source": [
    "def generate_answer_original(input_question):\n",
    "    try:\n",
    "        # context for GPT\n",
    "        prompt = prompt_message\n",
    "        question = input_question\n",
    "        response = client.chat.completions.create(\n",
    "            model='gpt-4o-mini',\n",
    "            messages=[\n",
    "                {\"role\": \"system\", \"content\": prompt},\n",
    "                {\"role\": \"user\", \"content\": question}\n",
    "            ],\n",
    "            max_completion_tokens = 260,\n",
    "            temperature=0.3\n",
    "        )\n",
    "        answer = response.choices[0].message.content\n",
    "        return answer\n",
    "    except Exception as e:\n",
    "        print(f\"Error generating answer: {e}\")\n",
    "        return f\"There was an error generating the answer: {e}\""
   ]
  },
  {
   "cell_type": "code",
   "execution_count": 77,
   "metadata": {},
   "outputs": [
    {
     "name": "stdout",
     "output_type": "stream",
     "text": [
      "In the trypsin experiment, the results showed a significant decrease in the concentration of intact proteins and an increase in the concentration of smaller molecules, specifically peptides. This suggests that trypsin effectively catalyzed the breakdown of proteins into peptides. The presence of peptides can be confirmed through various methods, such as using colorimetric assays that indicate peptide formation. Additionally, the time taken for the reaction to occur supports the idea that trypsin acts as a catalyst, speeding up the breakdown process. Overall, the experimental results provide strong evidence that trypsin is responsible for converting proteins into smaller peptide fragments, demonstrating its crucial role in protein digestion.\n"
     ]
    }
   ],
   "source": [
    "# this_original_answer = generate_answer_original(test_data[4]['messages'][1]['content'])\n",
    "# print(this_original_answer)"
   ]
  },
  {
   "cell_type": "code",
   "execution_count": 79,
   "metadata": {},
   "outputs": [
    {
     "data": {
      "text/plain": [
       "130"
      ]
     },
     "execution_count": 79,
     "metadata": {},
     "output_type": "execute_result"
    }
   ],
   "source": [
    "# tokenizer = tiktoken.encoding_for_model(\"gpt-4o-mini\")\n",
    "# len((tokenizer.encode(this_original_answer)))"
   ]
  },
  {
   "cell_type": "code",
   "execution_count": 87,
   "metadata": {},
   "outputs": [
    {
     "name": "stdout",
     "output_type": "stream",
     "text": [
      "Start generating answers for question: 0\n",
      "Start generating answers for question: 1\n",
      "Start generating answers for question: 2\n",
      "Start generating answers for question: 3\n",
      "Start generating answers for question: 4\n",
      "Start generating answers for question: 5\n",
      "Start generating answers for question: 6\n",
      "Start generating answers for question: 7\n",
      "Start generating answers for question: 8\n",
      "Start generating answers for question: 9\n",
      "Start generating answers for question: 10\n",
      "Start generating answers for question: 11\n",
      "Start generating answers for question: 12\n",
      "Start generating answers for question: 13\n",
      "Start generating answers for question: 14\n",
      "Start generating answers for question: 15\n",
      "Start generating answers for question: 16\n",
      "Start generating answers for question: 17\n",
      "Answers have been generated and stored in data/generated/generated_answers.csv\n"
     ]
    }
   ],
   "source": [
    "# import csv\n",
    "# import time\n",
    "\n",
    "# # Define the CSV file path\n",
    "# output_csv_path = \"data/generated/generated_answers.csv\"\n",
    "\n",
    "# # Open the CSV file for writing\n",
    "# with open(output_csv_path, mode='w', newline='', encoding='utf-8') as file:\n",
    "#     writer = csv.writer(file)\n",
    "#     # Write the header row\n",
    "#     writer.writerow([\"official_answer\", \"fine_tunned_answer\", \"4o_mini_answer\"])\n",
    "\n",
    "#     # Iterate over the test data\n",
    "#     i = 0\n",
    "#     for line in test_data:\n",
    "#         try:\n",
    "#             official_answer = line['messages'][2]['content']\n",
    "#             question = line['messages'][1]['content']\n",
    "\n",
    "#             print(f\"Start generating answers for question: {i}\")\n",
    "\n",
    "#             # Generate answers using the two functions\n",
    "#             fine_tunned_answer = generate_answer_fine_tune(question)\n",
    "#             time.sleep(1)  \n",
    "#             mini_answer = generate_answer_original(question)\n",
    "#             time.sleep(1)  \n",
    "\n",
    "#             # Write the row to the CSV file\n",
    "#             writer.writerow([official_answer, fine_tunned_answer, mini_answer])\n",
    "\n",
    "#             i+=1\n",
    "\n",
    "#         except Exception as e:\n",
    "#             print(f\"Error processing line: {e}\")\n",
    "#             continue\n",
    "\n",
    "# print(f\"Answers have been generated and stored in {output_csv_path}\")"
   ]
  },
  {
   "cell_type": "code",
   "execution_count": 89,
   "metadata": {},
   "outputs": [],
   "source": [
    "test_answer_df = pd.read_csv('data/generated/generated_answers.csv')"
   ]
  },
  {
   "cell_type": "code",
   "execution_count": 90,
   "metadata": {},
   "outputs": [
    {
     "data": {
      "text/html": [
       "<div>\n",
       "<style scoped>\n",
       "    .dataframe tbody tr th:only-of-type {\n",
       "        vertical-align: middle;\n",
       "    }\n",
       "\n",
       "    .dataframe tbody tr th {\n",
       "        vertical-align: top;\n",
       "    }\n",
       "\n",
       "    .dataframe thead th {\n",
       "        text-align: right;\n",
       "    }\n",
       "</style>\n",
       "<table border=\"1\" class=\"dataframe\">\n",
       "  <thead>\n",
       "    <tr style=\"text-align: right;\">\n",
       "      <th></th>\n",
       "      <th>official_answer</th>\n",
       "      <th>fine_tunned_answer</th>\n",
       "      <th>4o_mini_answer</th>\n",
       "    </tr>\n",
       "  </thead>\n",
       "  <tbody>\n",
       "    <tr>\n",
       "      <th>0</th>\n",
       "      <td>\"The liquid reduced because it evaporated. It ...</td>\n",
       "      <td>\"The liquid in the pan reduced as it evaporate...</td>\n",
       "      <td>The liquid in the pan reduced due to the proce...</td>\n",
       "    </tr>\n",
       "    <tr>\n",
       "      <th>1</th>\n",
       "      <td>\"Student finger, rock or stone, wood, thick fa...</td>\n",
       "      <td>\"Aluminum foil and plastic wrap. We could feel...</td>\n",
       "      <td>Exemplar Answer:\\n\\nThe opaque objects that ab...</td>\n",
       "    </tr>\n",
       "    <tr>\n",
       "      <th>2</th>\n",
       "      <td>\"The ova (eggs) or ovules are protected from d...</td>\n",
       "      <td>\"It is important that the ovules are found in ...</td>\n",
       "      <td>The ovules are located within the ovary of the...</td>\n",
       "    </tr>\n",
       "    <tr>\n",
       "      <th>3</th>\n",
       "      <td>\"My conclusions would have been different, as ...</td>\n",
       "      <td>\"It would have been that ostracism was a fair ...</td>\n",
       "      <td>If I had only examined Source 1, my conclusion...</td>\n",
       "    </tr>\n",
       "    <tr>\n",
       "      <th>4</th>\n",
       "      <td>\"This experiment uses milk which contains the ...</td>\n",
       "      <td>\"Trypsin breaks down proteins into smaller mol...</td>\n",
       "      <td>In the trypsin experiment, the results indicat...</td>\n",
       "    </tr>\n",
       "    <tr>\n",
       "      <th>5</th>\n",
       "      <td>\"Tension force. Tension force = weight force. ...</td>\n",
       "      <td>\"Tension force. Tension force = weight of mass...</td>\n",
       "      <td>The force present in the string when tied to t...</td>\n",
       "    </tr>\n",
       "    <tr>\n",
       "      <th>6</th>\n",
       "      <td>\"Fin designs that have three or four triangula...</td>\n",
       "      <td>\"The fin design with the most surface area wor...</td>\n",
       "      <td>The fin design that worked best was the triang...</td>\n",
       "    </tr>\n",
       "    <tr>\n",
       "      <th>7</th>\n",
       "      <td>\"Oobleck acts like a solid if it has very litt...</td>\n",
       "      <td>\"Oobleck behaves like a liquid when it is left...</td>\n",
       "      <td>Oobleck exhibits properties of both a liquid a...</td>\n",
       "    </tr>\n",
       "    <tr>\n",
       "      <th>8</th>\n",
       "      <td>\"The best results were when we used two or thr...</td>\n",
       "      <td>\"Using two mirrors gave the brightest light sp...</td>\n",
       "      <td>The method that gave the brightest light spot ...</td>\n",
       "    </tr>\n",
       "    <tr>\n",
       "      <th>9</th>\n",
       "      <td>\"Mars, Earth’s moon, Europa, Enceladus, and Ti...</td>\n",
       "      <td>\"Earth's moon, Mars, Europa, Enceladus and Tit...</td>\n",
       "      <td>The most likely places for us to live on in ou...</td>\n",
       "    </tr>\n",
       "    <tr>\n",
       "      <th>10</th>\n",
       "      <td>\"Friction from the contact of the car’s wheels...</td>\n",
       "      <td>\"Friction between the car and the incline may ...</td>\n",
       "      <td>Other than the height from which it is release...</td>\n",
       "    </tr>\n",
       "    <tr>\n",
       "      <th>11</th>\n",
       "      <td>\"Helping people understand their significance ...</td>\n",
       "      <td>\"Education can help protect ancient sites by t...</td>\n",
       "      <td>Education plays a crucial role in protecting a...</td>\n",
       "    </tr>\n",
       "    <tr>\n",
       "      <th>12</th>\n",
       "      <td>\"Water to ice: snow, sleet, hail, ice on winds...</td>\n",
       "      <td>\"Water would turn into ice: When it is cold ou...</td>\n",
       "      <td>**Exemplar Answer:**\\n\\n1. **Water turning int...</td>\n",
       "    </tr>\n",
       "    <tr>\n",
       "      <th>13</th>\n",
       "      <td>\"Seeds dispersed by water float and tend to ha...</td>\n",
       "      <td>\"Water - hard but light shells that allow them...</td>\n",
       "      <td>Seeds dispersed by water, animal fur/feathers,...</td>\n",
       "    </tr>\n",
       "    <tr>\n",
       "      <th>14</th>\n",
       "      <td>\"The main challenge of living on Mercury or Ve...</td>\n",
       "      <td>\"The main challenge of living on Mercury or Ve...</td>\n",
       "      <td>The main challenge of living on Mercury or Ven...</td>\n",
       "    </tr>\n",
       "    <tr>\n",
       "      <th>15</th>\n",
       "      <td>\"The centrifuge works by spinning mixtures, us...</td>\n",
       "      <td>\"The water was a liquid and had a low density....</td>\n",
       "      <td>Centrifugation effectively separates component...</td>\n",
       "    </tr>\n",
       "    <tr>\n",
       "      <th>16</th>\n",
       "      <td>\"The balloon over the end of the straw acted l...</td>\n",
       "      <td>\"The balloon acts like a one-way valve as it o...</td>\n",
       "      <td>The balloon over the end of a straw acts like ...</td>\n",
       "    </tr>\n",
       "    <tr>\n",
       "      <th>17</th>\n",
       "      <td>\"Centrifugal force separates out heavy particl...</td>\n",
       "      <td>\"A centrifuge spins a mixture at high speeds. ...</td>\n",
       "      <td>A centrifuge works by spinning a mixture at hi...</td>\n",
       "    </tr>\n",
       "  </tbody>\n",
       "</table>\n",
       "</div>"
      ],
      "text/plain": [
       "                                      official_answer  \\\n",
       "0   \"The liquid reduced because it evaporated. It ...   \n",
       "1   \"Student finger, rock or stone, wood, thick fa...   \n",
       "2   \"The ova (eggs) or ovules are protected from d...   \n",
       "3   \"My conclusions would have been different, as ...   \n",
       "4   \"This experiment uses milk which contains the ...   \n",
       "5   \"Tension force. Tension force = weight force. ...   \n",
       "6   \"Fin designs that have three or four triangula...   \n",
       "7   \"Oobleck acts like a solid if it has very litt...   \n",
       "8   \"The best results were when we used two or thr...   \n",
       "9   \"Mars, Earth’s moon, Europa, Enceladus, and Ti...   \n",
       "10  \"Friction from the contact of the car’s wheels...   \n",
       "11  \"Helping people understand their significance ...   \n",
       "12  \"Water to ice: snow, sleet, hail, ice on winds...   \n",
       "13  \"Seeds dispersed by water float and tend to ha...   \n",
       "14  \"The main challenge of living on Mercury or Ve...   \n",
       "15  \"The centrifuge works by spinning mixtures, us...   \n",
       "16  \"The balloon over the end of the straw acted l...   \n",
       "17  \"Centrifugal force separates out heavy particl...   \n",
       "\n",
       "                                   fine_tunned_answer  \\\n",
       "0   \"The liquid in the pan reduced as it evaporate...   \n",
       "1   \"Aluminum foil and plastic wrap. We could feel...   \n",
       "2   \"It is important that the ovules are found in ...   \n",
       "3   \"It would have been that ostracism was a fair ...   \n",
       "4   \"Trypsin breaks down proteins into smaller mol...   \n",
       "5   \"Tension force. Tension force = weight of mass...   \n",
       "6   \"The fin design with the most surface area wor...   \n",
       "7   \"Oobleck behaves like a liquid when it is left...   \n",
       "8   \"Using two mirrors gave the brightest light sp...   \n",
       "9   \"Earth's moon, Mars, Europa, Enceladus and Tit...   \n",
       "10  \"Friction between the car and the incline may ...   \n",
       "11  \"Education can help protect ancient sites by t...   \n",
       "12  \"Water would turn into ice: When it is cold ou...   \n",
       "13  \"Water - hard but light shells that allow them...   \n",
       "14  \"The main challenge of living on Mercury or Ve...   \n",
       "15  \"The water was a liquid and had a low density....   \n",
       "16  \"The balloon acts like a one-way valve as it o...   \n",
       "17  \"A centrifuge spins a mixture at high speeds. ...   \n",
       "\n",
       "                                       4o_mini_answer  \n",
       "0   The liquid in the pan reduced due to the proce...  \n",
       "1   Exemplar Answer:\\n\\nThe opaque objects that ab...  \n",
       "2   The ovules are located within the ovary of the...  \n",
       "3   If I had only examined Source 1, my conclusion...  \n",
       "4   In the trypsin experiment, the results indicat...  \n",
       "5   The force present in the string when tied to t...  \n",
       "6   The fin design that worked best was the triang...  \n",
       "7   Oobleck exhibits properties of both a liquid a...  \n",
       "8   The method that gave the brightest light spot ...  \n",
       "9   The most likely places for us to live on in ou...  \n",
       "10  Other than the height from which it is release...  \n",
       "11  Education plays a crucial role in protecting a...  \n",
       "12  **Exemplar Answer:**\\n\\n1. **Water turning int...  \n",
       "13  Seeds dispersed by water, animal fur/feathers,...  \n",
       "14  The main challenge of living on Mercury or Ven...  \n",
       "15  Centrifugation effectively separates component...  \n",
       "16  The balloon over the end of a straw acts like ...  \n",
       "17  A centrifuge works by spinning a mixture at hi...  "
      ]
     },
     "execution_count": 90,
     "metadata": {},
     "output_type": "execute_result"
    }
   ],
   "source": [
    "test_answer_df"
   ]
  },
  {
   "cell_type": "code",
   "execution_count": 95,
   "metadata": {},
   "outputs": [
    {
     "name": "stdout",
     "output_type": "stream",
     "text": [
      "The total generated token used in the test data could be 4302\n"
     ]
    }
   ],
   "source": [
    "token_answer_used_in_test = 0\n",
    "\n",
    "for i in range(len(test_answer_df)):\n",
    "    fine_tunned_answer = test_answer_df.iloc[i]['fine_tunned_answer']\n",
    "    mini_answer = test_answer_df.iloc[i]['4o_mini_answer']\n",
    "\n",
    "    fine_tunned_tokens = count_tokens(fine_tunned_answer)\n",
    "    mini_tokens = count_tokens(mini_answer)\n",
    "\n",
    "    token_answer_used_in_test += fine_tunned_tokens + mini_tokens\n",
    "\n",
    "print(f\"The total generated token used in the test data could be {token_answer_used_in_test}\")\n",
    "    "
   ]
  },
  {
   "cell_type": "markdown",
   "metadata": {},
   "source": [
    "## Start Generate the train and validation part(18 answers) "
   ]
  },
  {
   "cell_type": "code",
   "execution_count": 97,
   "metadata": {},
   "outputs": [],
   "source": [
    "with open(\"data/finetuneData/train_data.jsonl\", \"r\") as file:\n",
    "    train_data = [json.loads(line) for line in file]"
   ]
  },
  {
   "cell_type": "code",
   "execution_count": 98,
   "metadata": {},
   "outputs": [],
   "source": [
    "with open(\"data/finetuneData/validation_data.jsonl\", \"r\") as file:\n",
    "    validation_data = [json.loads(line) for line in file]"
   ]
  },
  {
   "cell_type": "markdown",
   "metadata": {},
   "source": [
    "### Estimate the token needed for the train and validation part"
   ]
  },
  {
   "cell_type": "code",
   "execution_count": 100,
   "metadata": {},
   "outputs": [
    {
     "name": "stdout",
     "output_type": "stream",
     "text": [
      "The number of trained dataset token number for generating the answers: 23331\n",
      "The number of validation dataset token number for generating the answers: 22171\n",
      "The total estimate number of token number be used for generating the answers: 91004\n"
     ]
    }
   ],
   "source": [
    "def count_tokens_in_jsonl_train_validation(file_path, tokenizer):\n",
    "    total_tokens = 0\n",
    "    i = 0\n",
    "    with open(file_path, 'r', encoding='utf-8') as f:\n",
    "        str = ''\n",
    "        for line in f:\n",
    "            if i == 18:\n",
    "                break\n",
    "            data = json.loads(line)\n",
    "            user = data['messages'][1]['content']\n",
    "            str = user + prompt_message\n",
    "            tokens = tokenizer.encode(str)\n",
    "            total_tokens += len(tokens) + 260\n",
    "            i+=1\n",
    "    return total_tokens\n",
    "\n",
    "# Tarin and validation file path\n",
    "train_file_path = \"data/finetuneData/train_data.jsonl\"\n",
    "validation_file_path = \"data/finetuneData/validation_data.jsonl\"\n",
    "\n",
    "# Using tokenization\n",
    "tokenizer = tiktoken.encoding_for_model(\"gpt-4o-mini\")\n",
    "\n",
    "# calculate the token count for generate the answers\n",
    "train_token_count_generate_answers = count_tokens_in_jsonl_train_validation(train_file_path, tokenizer)\n",
    "validation_token_count_generate_answers = count_tokens_in_jsonl_train_validation(validation_file_path, tokenizer)\n",
    "\n",
    "# print out the token count\n",
    "print(f\"The number of trained dataset token number for generating the answers: {train_token_count_generate_answers}\")\n",
    "print(f\"The number of validation dataset token number for generating the answers: {validation_token_count_generate_answers}\")\n",
    "print(f\"The total estimate number of token number be used for generating the answers: {(train_token_count_generate_answers + validation_token_count_generate_answers)*2}\")"
   ]
  },
  {
   "cell_type": "markdown",
   "metadata": {},
   "source": [
    "### Get the answer from Open API model"
   ]
  },
  {
   "cell_type": "code",
   "execution_count": 104,
   "metadata": {},
   "outputs": [
    {
     "name": "stdout",
     "output_type": "stream",
     "text": [
      "Start generating answers for question(train dataset): 0\n",
      "Start generating answers for question(train dataset): 1\n",
      "Start generating answers for question(train dataset): 2\n",
      "Start generating answers for question(train dataset): 3\n",
      "Start generating answers for question(train dataset): 4\n",
      "Start generating answers for question(train dataset): 5\n",
      "Start generating answers for question(train dataset): 6\n",
      "Start generating answers for question(train dataset): 7\n",
      "Start generating answers for question(train dataset): 8\n",
      "Start generating answers for question(train dataset): 9\n",
      "Start generating answers for question(train dataset): 10\n",
      "Start generating answers for question(train dataset): 11\n",
      "Start generating answers for question(train dataset): 12\n",
      "Start generating answers for question(train dataset): 13\n",
      "Start generating answers for question(train dataset): 14\n",
      "Start generating answers for question(train dataset): 15\n",
      "Start generating answers for question(train dataset): 16\n",
      "Start generating answers for question(train dataset): 17\n",
      "Answers have been generated and stored in data/generated/generated_train_answers.csv\n"
     ]
    }
   ],
   "source": [
    "\n",
    "# import csv\n",
    "# import time\n",
    "\n",
    "# # Define the CSV file path\n",
    "# output_csv_path = \"data/generated/generated_train_answers.csv\"\n",
    "\n",
    "# # Open the CSV file for writing\n",
    "# with open(output_csv_path, mode='w', newline='', encoding='utf-8') as file:\n",
    "#     writer = csv.writer(file)\n",
    "#     # Write the header row\n",
    "#     writer.writerow([\"official_answer\", \"fine_tunned_answer\", \"4o_mini_answer\"])\n",
    "\n",
    "#     # Iterate over the test data\n",
    "#     i = 0\n",
    "#     for line in train_data:\n",
    "#         try:\n",
    "#             if (i==18):\n",
    "#                 break\n",
    "\n",
    "#             official_answer = line['messages'][2]['content']\n",
    "#             question = line['messages'][1]['content']\n",
    "\n",
    "#             print(f\"Start generating answers for question(train dataset): {i}\")\n",
    "\n",
    "#             # Generate answers using the two functions\n",
    "#             fine_tunned_answer = generate_answer_fine_tune(question)\n",
    "#             time.sleep(1)  \n",
    "#             mini_answer = generate_answer_original(question)\n",
    "#             time.sleep(1)  \n",
    "\n",
    "#             # Write the row to the CSV file\n",
    "#             writer.writerow([official_answer, fine_tunned_answer, mini_answer])\n",
    "\n",
    "#             i+=1\n",
    "\n",
    "#         except Exception as e:\n",
    "#             print(f\"Error processing line: {e}\")\n",
    "#             continue\n",
    "\n",
    "# print(f\"Answers have been generated and stored in {output_csv_path}\")"
   ]
  },
  {
   "cell_type": "code",
   "execution_count": 105,
   "metadata": {},
   "outputs": [
    {
     "name": "stdout",
     "output_type": "stream",
     "text": [
      "Start generating answers for question (validation dataset): 0\n",
      "Start generating answers for question (validation dataset): 1\n",
      "Start generating answers for question (validation dataset): 2\n",
      "Start generating answers for question (validation dataset): 3\n",
      "Start generating answers for question (validation dataset): 4\n",
      "Start generating answers for question (validation dataset): 5\n",
      "Start generating answers for question (validation dataset): 6\n",
      "Start generating answers for question (validation dataset): 7\n",
      "Start generating answers for question (validation dataset): 8\n",
      "Start generating answers for question (validation dataset): 9\n",
      "Start generating answers for question (validation dataset): 10\n",
      "Start generating answers for question (validation dataset): 11\n",
      "Start generating answers for question (validation dataset): 12\n",
      "Start generating answers for question (validation dataset): 13\n",
      "Start generating answers for question (validation dataset): 14\n",
      "Start generating answers for question (validation dataset): 15\n",
      "Start generating answers for question (validation dataset): 16\n",
      "Start generating answers for question (validation dataset): 17\n",
      "Answers have been generated and stored in data/generated/generated_validate_answers.csv\n"
     ]
    }
   ],
   "source": [
    "\n",
    "# import csv\n",
    "# import time\n",
    "\n",
    "# # Define the CSV file path\n",
    "# output_csv_path = \"data/generated/generated_validate_answers.csv\"\n",
    "\n",
    "# # Open the CSV file for writing\n",
    "# with open(output_csv_path, mode='w', newline='', encoding='utf-8') as file:\n",
    "#     writer = csv.writer(file)\n",
    "#     # Write the header row\n",
    "#     writer.writerow([\"official_answer\", \"fine_tunned_answer\", \"4o_mini_answer\"])\n",
    "\n",
    "#     # Iterate over the test data\n",
    "#     i = 0\n",
    "#     for line in validation_data:\n",
    "#         try:\n",
    "#             if (i==18):\n",
    "#                 break\n",
    "\n",
    "#             official_answer = line['messages'][2]['content']\n",
    "#             question = line['messages'][1]['content']\n",
    "\n",
    "#             print(f\"Start generating answers for question (validation dataset): {i}\")\n",
    "\n",
    "#             # Generate answers using the two functions\n",
    "#             fine_tunned_answer = generate_answer_fine_tune(question)\n",
    "#             time.sleep(1)  \n",
    "#             mini_answer = generate_answer_original(question)\n",
    "#             time.sleep(1)  \n",
    "\n",
    "#             # Write the row to the CSV file\n",
    "#             writer.writerow([official_answer, fine_tunned_answer, mini_answer])\n",
    "\n",
    "#             i+=1\n",
    "\n",
    "#         except Exception as e:\n",
    "#             print(f\"Error processing line: {e}\")\n",
    "#             continue\n",
    "\n",
    "# print(f\"Answers have been generated and stored in {output_csv_path}\")"
   ]
  }
 ],
 "metadata": {
  "kernelspec": {
   "display_name": "cura",
   "language": "python",
   "name": "python3"
  },
  "language_info": {
   "codemirror_mode": {
    "name": "ipython",
    "version": 3
   },
   "file_extension": ".py",
   "mimetype": "text/x-python",
   "name": "python",
   "nbconvert_exporter": "python",
   "pygments_lexer": "ipython3",
   "version": "3.9.20"
  }
 },
 "nbformat": 4,
 "nbformat_minor": 2
}
